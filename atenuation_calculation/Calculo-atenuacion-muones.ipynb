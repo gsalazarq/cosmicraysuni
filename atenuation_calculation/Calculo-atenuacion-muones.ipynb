{
 "cells": [
  {
   "cell_type": "code",
   "execution_count": 1,
   "id": "dc08ff39",
   "metadata": {},
   "outputs": [],
   "source": [
    "import numpy as np\n",
    "import math \n",
    "import matplotlib.pyplot as plt\n",
    "import pandas as pd\n",
    "from matplotlib.colors import LogNorm"
   ]
  },
  {
   "cell_type": "code",
   "execution_count": 5,
   "id": "7b9da245",
   "metadata": {},
   "outputs": [],
   "source": [
    "### variables de input \n",
    "\n",
    "dEdx =20 #muon stopping power in the material \n",
    "file = './rastert_dem_uni1-clean.txt' ## DEM file \n",
    "\n",
    "inicio = 380 # indice donde quiero empezar a analizar en el eje X \n",
    "\n",
    "fila = 120\n",
    "\n",
    "punto_inicio=[50,fila]# punto desde donde se coloca el observador #punto_inicio[1] es el valor de fila, \n",
    "                     # y el que genera de atenuación y distancias para ayuda gráfica\n",
    "\n",
    "xplotrango, yplotrango = 70, 250 #rango de plots\n",
    "\n",
    "\n",
    "##############################\n",
    "## CARGAR LOS DATOS DEL RASTER \n",
    "\n",
    "df = pd.read_csv(file, sep =\" \", header=None)\n",
    "df = df.fillna(0)\n",
    "df = df.drop(columns=626)#eliminar la última columna \n",
    "columnas = df.shape[1] \n",
    " \n",
    "# indices \n",
    "arr_x = np.linspace(0,columnas-1,columnas)\n",
    "np_array = df.iloc[fila].to_numpy()\n",
    "\n",
    "\n",
    "##\n",
    "##############################\n"
   ]
  },
  {
   "cell_type": "code",
   "execution_count": 6,
   "id": "f8d006ac",
   "metadata": {},
   "outputs": [],
   "source": [
    "## línea de visión \n",
    "def recta(x_0, y_0, x_1,y_1,x): # todos los puntos son conocidos, la función bota un punto adelante \n",
    "    m=(y_1-y_0)/(x_1-x_0)\n",
    "    y_recta= y_0+m*(x-x_0)     \n",
    "\n",
    "    return y_recta \n",
    "\n",
    "def angle(x_0, y_0, x,y): # todos los puntos son conocidos, la función bota un punto adelante \n",
    "    angle = np.arctan((y-y_0)/(x-x_0))*180/np.pi\n",
    "\n",
    "    return angle\n",
    "\n",
    "#### SUPER IMPORTANTE \n",
    "def indice_final(inicio, array1, array2):  # inicio = x1, y1 , array1 = valores en y , array2 = valores de y \n",
    "                                           #con los cuales se va a intersectar \n",
    "    for i in range(inicio,len(array1)):           \n",
    "        if (array1-array2)[i] >= 0: #la condicion. \n",
    "            indice_final=i\n",
    "    return indice_final\n",
    "\n",
    "#funcion para calcular la distancia entre dos puntos \n",
    "# p1 y p2 son array de dos dimensiones  que tiene los puntos (x,y)\n",
    "\n",
    "def distancia(p1, p2): #la entrada     \n",
    "    resto = p2**2-p1**2\n",
    "    dist = math.sqrt(abs(resto[0])+ abs(resto[1]))  \n",
    "    return dist  \n",
    "\n",
    "\n",
    "\n",
    "##############################\n",
    "## FUNCIONES PARA LA PROFUNDIDAD Y LA GRILLA DE PROFUNDIDAD\n",
    "\n",
    "## funcion para calcular la distancia entre dos puntos para un arr_x, ptx inicial de observación y un \n",
    "\n",
    "def depth(arr_x, x1): # arr_x es el array de los índices en x (columnas);  x1 = inicio para \n",
    "    vec_recta = []\n",
    "    #Obtener los límites \n",
    "    for j in range(0,len(arr_x)):        \n",
    "        tm=recta(punto_inicio[0],punto_inicio[1],arr_x[x1], np_array[x1], arr_x[j]) \n",
    "        vec_recta.append(tm)\n",
    "        recta_vec = np.asarray(vec_recta)   #genera la recta para obtener el P2\n",
    "    \n",
    "\n",
    "    lf= indice_final(inicio, np_array, recta_vec) # indice de intersección entre DM y P2\n",
    "    \n",
    "    int_i= np.asarray([x1,np_array[x1]])#convertir los puntos iniciales en el  array  PUNTO DE INICIO P1\n",
    "    int_f= np.asarray([lf,np_array[lf]])#convertir los puntos finales en el  array P2\n",
    "    depth_i = distancia(int_i, int_f) #cacula la distancia \n",
    "    \n",
    "    return (depth_i, lf) #lf indice final donde acaba la línea de observación o el P2\n",
    "    \n",
    "    \n",
    "## funcion que produce un vector con las profundidades para un arr_x, ptx inicial de observación \n",
    "def grilla_vertical(fila, ptx):  \n",
    "    vec_fila =[] \n",
    "    \n",
    "    for j in range(ptx,len(arr_x)):   \n",
    "        \n",
    "        profundidad = depth(arr_x, j)[0]        \n",
    "        \n",
    "        if profundidad != 0: \n",
    "            an=angle(punto_inicio[0],punto_inicio[1], arr_x[j], np_array[j])\n",
    "            vec_fila.append([ptx, np_array[ptx], j, np_array[j], an, profundidad]) \n",
    "            #vec_fila.append(profundidad)\n",
    "            #vec_fila(x1= ptx, y1= altura del ptx, an=angulo de la recta, profundida)\n",
    "        else:\n",
    "            break \n",
    "    \n",
    "        #an=angle(punto_inicio[0],punto_inicio[1], arr_x[j], np_array[j])\n",
    "        #vec_fila.append([ptx, np_array[ptx], j, np_array[j], an, profundidad])\n",
    "    \n",
    " \n",
    "    return (vec_fila, j) \n",
    "##\n",
    "##############################\n",
    "## convierte en vector los valores de profundidad con respecto a la altura (o el zenith)\n",
    "\n",
    "def grilla_horizontal(fila): #vec_fila=grilla_vertical[0]\n",
    "\n",
    "    gvert = grilla_vertical(fila,inicio)\n",
    "    gvert_theta = []\n",
    "    gvert_profundidad = []\n",
    "    gvert_altura= []\n",
    "    for n in range(0,len(gvert[0])): \n",
    "        gvert_altura.append(gvert[0][n][3])\n",
    "        gvert_theta.append(gvert[0][n][4])\n",
    "        gvert_profundidad.append(gvert[0][n][5])\n",
    "\n",
    "    return (gvert_altura, gvert_theta, gvert_profundidad)"
   ]
  },
  {
   "cell_type": "code",
   "execution_count": 10,
   "id": "d527c691",
   "metadata": {},
   "outputs": [],
   "source": [
    "gvert = grilla_vertical(fila,inicio)\n",
    "gvert_theta = []\n",
    "gvert_profundidad = []\n",
    "gvert_altura= []\n",
    "for n in range(0,len(gvert[0])): \n",
    "    gvert_altura.append(gvert[0][n][3])\n",
    "    gvert_theta.append(gvert[0][n][4])\n",
    "    gvert_profundidad.append(gvert[0][n][5])\n",
    "     \n",
    "indice_final_cima = grilla_vertical(fila,inicio)[1]\n",
    "gvert = grilla_vertical(fila,inicio)\n"
   ]
  },
  {
   "cell_type": "code",
   "execution_count": 21,
   "id": "3c403a21",
   "metadata": {},
   "outputs": [
    {
     "name": "stdout",
     "output_type": "stream",
     "text": [
      "[246.97396139 243.00884257 235.69599442 230.75805472 227.29841108\n",
      " 221.2621847  219.3060204  216.42679893 215.73434868 213.29053428\n",
      " 210.96824842 208.92056502 206.68918199 203.96671852 200.99566412\n",
      " 198.29316276 195.07938183 192.02450292 187.70971446 182.52731812\n",
      " 174.73652267 166.72469613 136.72605199 115.56691414  99.199307\n",
      "  79.6363837   61.20058406  52.30558292  30.7029629 ]\n"
     ]
    },
    {
     "data": {
      "text/plain": [
       "<matplotlib.legend.Legend at 0x7f0cc12f91f0>"
      ]
     },
     "execution_count": 21,
     "metadata": {},
     "output_type": "execute_result"
    },
    {
     "data": {
      "image/png": "[encoded data removed]",
      "text/plain": [
       "<Figure size 1080x504 with 2 Axes>"
      ]
     },
     "metadata": {
      "needs_background": "light"
     },
     "output_type": "display_data"
    }
   ],
   "source": [
    "m = np.linspace(inicio,inicio+len(gvert[0]),len(gvert[0]))\n",
    "\n",
    "ref_y_inicio =[]\n",
    "ref_y_final  =[]\n",
    "\n",
    "#indice_final_cima = depth(arr_x, ptx)[1] \n",
    "\n",
    "\n",
    "for i in range(0, len(arr_x)): \n",
    "    yt=recta(punto_inicio[0], punto_inicio[1], inicio, np_array[inicio], i) \n",
    "    ref_y_inicio.append(yt)       \n",
    "    yt2=recta(punto_inicio[0], punto_inicio[1], indice_final_cima, np_array[indice_final_cima], i)\n",
    "     \n",
    "    ref_y_final.append(yt2)\n",
    "    \n",
    "\n",
    "############################\n",
    "#Plots para cada fila \n",
    "fig, ax = plt.subplots(1, 2, figsize=(15,7))\n",
    "#fig.tight_layout() \n",
    "\n",
    "\n",
    "### Plot 1 \n",
    "## Plot del perfil y de ángulo que subtiende \n",
    "\n",
    "ax[0].plot(np_array, label=\"Perfil del objeto\")\n",
    "ax[0].plot(m, gvert_altura, color=\"orange\", label=\"Zona de escaneo\")\n",
    "ax[0].plot(arr_x, ref_y_inicio,color=\"orange\")\n",
    "ax[0].plot(arr_x, ref_y_final,color=\"orange\")\n",
    "\n",
    "ax[0].axvline(x = punto_inicio[0], color = 'b', label = 'Posición del detector', linestyle='dashed')\n",
    "\n",
    "\n",
    "ax[0].legend()\n",
    "\n",
    "#ax[0, 0].ylim([xplotrango, yplotrango ]) # limita el rango en el que se muestra el eje Y\n",
    "ax[0].axhline(y = punto_inicio[1], color = 'b', label = 'axvline - full height', linestyle='dashed')\n",
    "\n",
    "ax[0].set_title(f'Perfil del {fila}-nth corte del Cerro UNI')\n",
    "ax[0].set(xlabel='Distancia (m)', ylabel='Altura (m)')\n",
    "\n",
    "### Plot 2 \n",
    "\n",
    "\n",
    "grifil = grilla_horizontal(fila)[2]\n",
    "grifil = np.asarray(grifil) \n",
    "\n",
    "\n",
    "\n",
    "print(grifil)\n",
    "\n",
    "c =np.column_stack((grifil, grifil))\n",
    "\n",
    "ax[1].set(xlabel='Azimuth', ylabel='Zenith')\n",
    "ax[1].pcolormesh(c,cmap=\"plasma\")\n",
    "ax[1].axvline(x = 1, color = 'b', label = 'Perfiles de observación', linestyle='dashed')\n",
    "\n",
    "ax[1].set_title(\"Mapa de la profundidad mínima esperada\")\n",
    "ax[1].legend(loc='lower left') "
   ]
  },
  {
   "cell_type": "code",
   "execution_count": null,
   "id": "9a1112b9",
   "metadata": {},
   "outputs": [],
   "source": [
    "om = np.linspace(0,3,4)\n",
    "print(om)\n",
    "\n",
    "\n",
    "np_array(121)"
   ]
  },
  {
   "cell_type": "markdown",
   "id": "d0494ce8",
   "metadata": {},
   "source": [
    "### cálculo de la atenuación"
   ]
  },
  {
   "cell_type": "code",
   "execution_count": null,
   "id": "948b031c",
   "metadata": {},
   "outputs": [],
   "source": [
    "depthdEdX= dEdx*depth_i\n",
    "print(depthdEdX)"
   ]
  },
  {
   "cell_type": "markdown",
   "id": "3c2b39fe",
   "metadata": {},
   "source": [
    "### análisis del ángulo"
   ]
  },
  {
   "cell_type": "code",
   "execution_count": null,
   "id": "eabc6bbd",
   "metadata": {},
   "outputs": [],
   "source": [
    "arr_t = np.linspace(inicio,columnas-1,columnas-inicio)\n",
    "\n",
    "plt.title(\"Evolución del ángulo\")\n",
    "plt.xlabel(\"Índice\")\n",
    "plt.ylabel(\"Valor del ángulo\")\n",
    "plt.xlim([punto_inicio[0], len(arr_x)]) # limita el rango en el que se muestra el eje Y\n",
    "plt.axvline(x = inicio, color = 'b', label = 'axvline - full height')\n",
    "plt.axvline(x = lf, color = 'b', label = 'axvline - full height')\n",
    "\n",
    "\n",
    "plt.plot(arr_t, recta_angle, color=\"red\", label=\"Evolución del ángulo de apertura\") "
   ]
  },
  {
   "cell_type": "code",
   "execution_count": null,
   "id": "cae8e76c",
   "metadata": {},
   "outputs": [],
   "source": [
    "vec_angle=[]\n",
    "vec_angle_energy = []\n",
    "vec_angle_perindex = []\n",
    "vec_angle_energy = []  \n",
    "\n",
    "#esto genera el ángulo \n",
    "for j in range(inicio,len(arr_x)):        \n",
    "    an=angle(punto_inicio[0],punto_inicio[1],arr_x[j], np_array[j])\n",
    "    vec_angle.append(an) \n",
    "    recta_angle = np.asarray(vec_angle)  \n",
    " \n",
    "\n",
    "num_bins = 20\n",
    "plt.title(\"Distribución del ángulo\")\n",
    "plt.hist(recta_angle, num_bins)  \n",
    "plt.show()"
   ]
  },
  {
   "cell_type": "code",
   "execution_count": null,
   "id": "936aa163",
   "metadata": {},
   "outputs": [],
   "source": [
    "### Plot del perfil y la gráfica \n",
    "plt.ylim([xplotrango, yplotrango ]) # limita el rango en el que se muestra el eje Y\n",
    "plt.plot(recta_vec) \n",
    "plt.axvline(x = inicio, color = 'b', label = 'axvline - full height')\n",
    "plt.axvline(x = punto_inicio[0], color = 'b', label = 'axvline - full height')\n",
    "\n",
    "plt.axhline(y = punto_inicio[1], color = 'b', label = 'axvline - full height')\n",
    "\n",
    "plt.plot(np_array)\n"
   ]
  },
  {
   "cell_type": "code",
   "execution_count": null,
   "id": "5505d8ee",
   "metadata": {},
   "outputs": [],
   "source": [
    "vec_angle_energy = (angle(punto_inicio[0],punto_inicio[1],arr_x[inicio], np_array[inicio]), depthdEdX)\n",
    "print (vec_angle_energy )\n"
   ]
  },
  {
   "cell_type": "markdown",
   "id": "48f76cd9",
   "metadata": {},
   "source": [
    "## Cargar los datos del flujo de muones simulados"
   ]
  },
  {
   "cell_type": "markdown",
   "id": "3be06021",
   "metadata": {},
   "source": [
    "### Distribución de muones atmosféricos en la superficie \n",
    "\n",
    "- 12 column format is:\n",
    "- CorsikaId px py pz x y z shower_id prm_id prm_energy prm_theta prm_phi"
   ]
  },
  {
   "cell_type": "code",
   "execution_count": null,
   "id": "460007ab",
   "metadata": {},
   "outputs": [],
   "source": [
    "datacorsikashw = pd.read_csv('/home/justus/Documentos/cosmicraysuni/CORSIKA_production/c_data/salida_d_2.shw', sep =\" \", header=None, skiprows= 6)\n",
    "\n",
    "\n",
    "#shower = datacorsikashw.fillna(0)\n",
    "#df_limpio=df.drop(columns=626)#eliminar la última columna \n",
    "#df_limpio.head() "
   ]
  },
  {
   "cell_type": "code",
   "execution_count": null,
   "id": "03d55f89",
   "metadata": {},
   "outputs": [],
   "source": [
    "datacorsikashw=datacorsikashw.drop([0])#eliminar la primera fila \n",
    "\n",
    "datacorsikashw.head() "
   ]
  },
  {
   "cell_type": "code",
   "execution_count": null,
   "id": "95dda32e",
   "metadata": {},
   "outputs": [],
   "source": [
    "#print(datacorsikashw.dtypes)  \n",
    "muonflux = datacorsikashw[(datacorsikashw[0]== 5) | (datacorsikashw[0]== 6)  ] \n",
    "\n",
    "points = len(muonflux)\n",
    "print(points)\n"
   ]
  },
  {
   "cell_type": "code",
   "execution_count": null,
   "id": "01f3c392",
   "metadata": {},
   "outputs": [],
   "source": [
    "muonflux.head()"
   ]
  },
  {
   "cell_type": "code",
   "execution_count": null,
   "id": "cf199b69",
   "metadata": {},
   "outputs": [],
   "source": [
    "pxpypz=muonflux.iloc[:,[1,2,3]].to_numpy() #seleccion de las colummnas de muones + y - \n",
    "type(pxpypz)\n",
    "print(pxpypz[0])"
   ]
  },
  {
   "cell_type": "code",
   "execution_count": null,
   "id": "9248ef39",
   "metadata": {},
   "outputs": [],
   "source": [
    "muonp2 = []\n",
    "muoncos = []\n",
    "muontheta = []\n",
    "for i in range(0, points, 1):\n",
    "    p2 = pxpypz[i][0]*pxpypz[i][0]+pxpypz[i][1]*pxpypz[i][1]+pxpypz[i][2]*pxpypz[i][2]\n",
    "    cos = pxpypz[i][2]/(np.sqrt(p2))\n",
    "    arcos = (np.arccos(cos))*360/(2*np.pi)\n",
    "    muonp2.append(p2)\n",
    "    muoncos.append(cos)\n",
    "    muontheta.append(arcos)\n"
   ]
  },
  {
   "cell_type": "code",
   "execution_count": null,
   "id": "fa47e339",
   "metadata": {},
   "outputs": [],
   "source": [
    " \n",
    "for i in range(0,10,1):\n",
    "    print(muontheta[i])"
   ]
  },
  {
   "cell_type": "code",
   "execution_count": null,
   "id": "2798dfef",
   "metadata": {},
   "outputs": [],
   "source": [
    " \n",
    "for i in range(0,10,1):\n",
    "    print(muoncos[i])"
   ]
  },
  {
   "cell_type": "code",
   "execution_count": null,
   "id": "527ef5d0",
   "metadata": {},
   "outputs": [],
   "source": [
    "#plt.hist(muontheta, bins = [0,10, 20, 30, 40, 50, 60, 70, 80, 90]) \n",
    "num_bins = 100\n",
    "plt.hist(muontheta, num_bins) \n",
    "\n",
    "plt.title(\"histogram\") \n",
    "plt.show()"
   ]
  },
  {
   "cell_type": "code",
   "execution_count": null,
   "id": "5f4051a3",
   "metadata": {},
   "outputs": [],
   "source": [
    "from numpy import array, exp\n",
    "from scipy.optimize import curve_fit\n",
    "import matplotlib.pyplot as plt\n",
    "\n",
    "y = array([12, 11, 13, 15, 16, 16, 15, 14, 15, 12, 11, 12, 8, 10, 9, 7, 6])\n",
    "x = array(range(len(y)))\n",
    "\n",
    "def func1(x, a, b, c):\n",
    "    return a*x**2+b*x+c\n",
    "\n",
    "def func2(x, a, b, c):\n",
    "    return a*x**3+b*x+c\n",
    "\n",
    "def func3(x, a, b, c):\n",
    "    return a*x**3+b*x**2+c\n",
    "\n",
    "def func4(x, a, b, c):\n",
    "    return a*exp(b*x)+c\n",
    "\n",
    "params, covs = curve_fit(func1, x, y)\n",
    "print(\"params: \", params)\n",
    "print(\"covariance: \", covs)\n",
    "\n",
    "params, _ = curve_fit(func1, x, y)\n",
    "a, b, c = params[0], params[1], params[2]\n",
    "yfit1 = a*x**2+b*x+c\n",
    "\n",
    "params, _  = curve_fit(func2, x, y)\n",
    "a, b, c = params[0], params[1], params[2]\n",
    "yfit2 = a*x**3+b*x+c\n",
    "\n",
    "params, _  = curve_fit(func3, x, y)\n",
    "a, b, c = params[0], params[1], params[2]\n",
    "yfit3 = a*x**3+b*x**2+c\n",
    "\n",
    "params, _  = curve_fit(func4, x, y)\n",
    "a, b, c = params[0], params[1], params[2]\n",
    "yfit4 = a*exp(x*b)+c\n",
    "\n",
    "plt.plot(x, y, 'bo', label=\"y-original\")\n",
    "plt.plot(x, yfit1, label=\"y=a*x^2+b*x+c\")\n",
    "plt.plot(x, yfit2, label=\"y=a*x^3+b*x+c\")\n",
    "plt.plot(x, yfit3, label=\"y=a*x^3+b*x^2*c\")\n",
    "plt.plot(x, yfit4, label=\"y=a*exp(b*x)+c\")\n",
    "plt.xlabel('x')\n",
    "plt.ylabel('y')\n",
    "plt.legend(loc='best', fancybox=True, shadow=True)\n",
    "plt.grid(True)\n",
    "plt.show() \n"
   ]
  },
  {
   "cell_type": "code",
   "execution_count": null,
   "id": "3b91cfca",
   "metadata": {},
   "outputs": [],
   "source": [
    "from scipy.optimize import curve_fit\n",
    "\n",
    "# 2.) Define fit function.\n",
    "def fit_function(x, I, n):\n",
    "    return (I)*np.cos(x)*np.sin(x)\n",
    "\n",
    "\n",
    "# 3.) Generate exponential and gaussian data and histograms.\n",
    "#data = np.random.exponential(scale=2.0, size=100)\n",
    "#data2 = np.random.normal(loc=3.0, scale=0.3, size=100)\n",
    "bins = np.linspace(0, 90, 352552)\n",
    "data_entries_1, bins_1 = np.histogram(data, bins=bins)\n",
    "#data_entries_2, bins_2 = np.histogram(data2, bins=bins)\n",
    "\n",
    "# 4.) Add histograms of exponential and gaussian data.\n",
    "#data_entries = data_entries_1 + data_entries_2\n",
    "#binscenters = np.array([0.5 * (bins[i] + bins[i+1]) for i in range(len(bins)-1)])\n",
    "\n",
    "# 5.) Fit the function to the histogram data.\n",
    "popt, pcov = curve_fit(fit_function, bins_1, muontheta)\n",
    "print(popt)\n",
    "\n",
    "plt.hist(muontheta,bins,  label=\"y-original\")\n",
    "#plt.plot(bins, fit_function, label=\"y=a*x^2+b*x+c\")\n",
    "\n",
    "plt.xlabel('x')\n",
    "plt.ylabel('y')\n",
    "plt.legend(loc='best', fancybox=True, shadow=True)\n",
    "plt.grid(True)\n",
    "plt.show() "
   ]
  },
  {
   "cell_type": "code",
   "execution_count": null,
   "id": "cd0c5c0f",
   "metadata": {},
   "outputs": [],
   "source": [
    "\n",
    "# 6.)\n",
    "# Generate enough x values to make the curves look smooth.\n",
    "xspace = np.linspace(0, 6, 100000)\n",
    "\n",
    "# Plot the histogram and the fitted function.\n",
    "plt.bar(binscenters, data_entries, width=bins[1] - bins[0], color='navy', label=r'Histogram entries')\n",
    "plt.plot(xspace, fit_function(xspace, *popt), color='darkorange', linewidth=2.5, label=r'Fitted function')\n",
    "\n",
    "# Make the plot nicer.\n",
    "plt.xlim(0,6)\n",
    "plt.xlabel(r'x axis')\n",
    "plt.ylabel(r'Number of entries')\n",
    "plt.title(r'Exponential decay with gaussian peak')\n",
    "plt.legend(loc='best')\n",
    "plt.show()\n",
    "plt.clf()"
   ]
  },
  {
   "cell_type": "code",
   "execution_count": null,
   "id": "5324ca3e",
   "metadata": {},
   "outputs": [],
   "source": [
    "import numpy as np\n",
    "\n",
    "import matplotlib.pyplot as plt\n",
    "from scipy.optimize import curve_fit\n",
    "\n",
    "# 2.) Define fit function.\n",
    "def fit_function(x, A, beta, B, mu, sigma):\n",
    "    return (A * np.exp(-x/beta) + B * np.exp(-1.0 * (x - mu)**2 / (2 * sigma**2)))\n",
    "\n",
    "# 3.) Generate exponential and gaussian data and histograms.\n",
    "data = np.random.exponential(scale=2.0, size=100000)\n",
    "data2 = np.random.normal(loc=3.0, scale=0.3, size=15000)\n",
    "bins = np.linspace(0, 6, 61)\n",
    "data_entries_1, bins_1 = np.histogram(data, bins=bins)\n",
    "data_entries_2, bins_2 = np.histogram(data2, bins=bins)\n",
    "\n",
    "# 4.) Add histograms of exponential and gaussian data.\n",
    "data_entries = data_entries_1 + data_entries_2\n",
    "binscenters = np.array([0.5 * (bins[i] + bins[i+1]) for i in range(len(bins)-1)])\n",
    "\n",
    "# 5.) Fit the function to the histogram data.\n",
    "popt, pcov = curve_fit(fit_function, xdata=binscenters, ydata=data_entries, p0=[20000, 2.0, 2000, 3.0, 0.3])\n",
    "print(popt)\n",
    "\n",
    "# 6.)\n",
    "# Generate enough x values to make the curves look smooth.\n",
    "xspace = np.linspace(0, 6, 100000)\n",
    "\n",
    "# Plot the histogram and the fitted function.\n",
    "plt.bar(binscenters, data_entries, width=bins[1] - bins[0], color='navy', label=r'Histogram entries')\n",
    "plt.plot(xspace, fit_function(xspace, *popt), color='darkorange', linewidth=2.5, label=r'Fitted function')\n",
    "\n",
    "# Make the plot nicer.\n",
    "plt.xlim(0,6)\n",
    "plt.xlabel(r'x axis')\n",
    "plt.ylabel(r'Number of entries')\n",
    "plt.title(r'Exponential decay with gaussian peak')\n",
    "plt.legend(loc='best')\n",
    "plt.show()\n",
    "plt.clf()"
   ]
  },
  {
   "cell_type": "markdown",
   "id": "bdf90b8b",
   "metadata": {},
   "source": [
    "### Flujo de muones atmosféricos en la superficie"
   ]
  },
  {
   "cell_type": "code",
   "execution_count": null,
   "id": "39d0f097",
   "metadata": {},
   "outputs": [],
   "source": [
    "datacorsikahst = pd.read_csv('/home/justus/Documentos/cosmicraysuni/CORSIKA_production/c_data/salida.hst', sep =\" \", header=None, skiprows= 5)\n",
    "showerhst=datacorsikahst.drop([157, 158,159, 160, 161, 162])#eliminar la última columna \n",
    "showerhst=showerhst.drop(columns=14)#eliminar la última columna \n",
    " \n",
    "showerhst"
   ]
  },
  {
   "cell_type": "code",
   "execution_count": null,
   "id": "9088d125",
   "metadata": {},
   "outputs": [],
   "source": [
    "muonshower=showerhst.drop([0])#eliminar la primera fila \n",
    "muonshower[0] = muonshower[0].astype(float) \n",
    "muonshower[4] = muonshower[4].astype(float) \n",
    "muonshower[5] = muonshower[5].astype(float) \n",
    "muonshower[13] = muonshower[13].astype(float) \n",
    " "
   ]
  },
  {
   "cell_type": "code",
   "execution_count": null,
   "id": "33908bb4",
   "metadata": {},
   "outputs": [],
   "source": [
    " \n",
    "\n",
    "# we make a plot of the results for each offset\n",
    "fig, ax = plt.subplots()\n",
    "colors = [\"crimson\", \"dodgerblue\"]\n",
    "    \n",
    "\n",
    "muonshower.plot(ax=ax, kind = 'scatter', x=0, y=5, color = \"green\", label=\"muon+\")\n",
    "muonshower.plot(ax=ax, kind = 'scatter', x=0, y=4, color=\"red\", label=\"muon-\")\n",
    "muonshower.plot(ax=ax, kind = 'scatter', x=0, y=13, color=\"blue\", label=\"total\")\n",
    "\n",
    "plt.xlabel(\"Energy (GeV)\")\n",
    "plt.ylabel(\"Flux\")\n",
    "plt.legend()\n",
    "        \n",
    "        \n",
    "plt.xscale(\"log\")\n",
    "plt.yscale(\"log\")\n",
    "plt.show()"
   ]
  },
  {
   "cell_type": "markdown",
   "id": "b501d670",
   "metadata": {},
   "source": [
    "#### Convertir en numpy un conjunto de datos"
   ]
  },
  {
   "cell_type": "code",
   "execution_count": null,
   "id": "989cf81c",
   "metadata": {},
   "outputs": [],
   "source": [
    "\n",
    "\n",
    "#energymuon=muonshower.iloc[:,[0,4,5,13]].to_numpy() #seleccion de las colummnas de muones + y - \n"
   ]
  },
  {
   "cell_type": "code",
   "execution_count": null,
   "id": "5c71f1e0",
   "metadata": {},
   "outputs": [],
   "source": []
  },
  {
   "cell_type": "markdown",
   "id": "4d526bf4",
   "metadata": {},
   "source": [
    "### Links revisados\n",
    "\n",
    "- https://datatofish.com/convert-string-to-float-dataframe/\n",
    "- https://www.w3schools.com/python/pandas/pandas_plotting.asp\n",
    "- https://www.geeksforgeeks.org/ways-to-filter-pandas-dataframe-by-column-values\n",
    "- https://www.tutorialspoint.com/numpy/numpy_histogram_using_matplotlib.htm#:~:text=NumPy%20has%20a%20numpy.,variable%20height%20corresponding%20to%20frequency.\n",
    "- https://riptutorial.com/scipy/example/31081/fitting-a-function-to-data-from-a-histogram\n",
    "- https://riptutorial.com/scipy/example/31081/fitting-a-function-to-data-from-a-histogram"
   ]
  },
  {
   "cell_type": "code",
   "execution_count": null,
   "id": "7b4b8d32",
   "metadata": {},
   "outputs": [],
   "source": [
    "# importing the modules\n",
    "import numpy as np\n",
    "import matplotlib.pyplot as plt\n",
    "\n",
    "# data to be plotted\n",
    "x = np.arange(0, 1.57, 0.04)\n",
    "y = 3*np.sin(x)*(np.cos(x))**2\n",
    "\n",
    "# plotting\n",
    "plt.title(\"Line graph\")\n",
    "plt.xlabel(\"X axis\")\n",
    "plt.ylabel(\"Y axis\")\n",
    "plt.plot(x, y, color =\"red\")\n",
    "plt.show()\n"
   ]
  }
 ],
 "metadata": {
  "kernelspec": {
   "display_name": "Python 3 (ipykernel)",
   "language": "python",
   "name": "python3"
  },
  "language_info": {
   "codemirror_mode": {
    "name": "ipython",
    "version": 3
   },
   "file_extension": ".py",
   "mimetype": "text/x-python",
   "name": "python",
   "nbconvert_exporter": "python",
   "pygments_lexer": "ipython3",
   "version": "3.9.10"
  }
 },
 "nbformat": 4,
 "nbformat_minor": 5
}
