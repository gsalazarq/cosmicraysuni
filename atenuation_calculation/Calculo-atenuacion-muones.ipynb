{
 "cells": [
  {
   "cell_type": "code",
   "execution_count": 1,
   "id": "f8d006ac",
   "metadata": {},
   "outputs": [],
   "source": [
    "import numpy as np\n",
    "import math \n",
    "import matplotlib.pyplot as plt\n",
    "import pandas as pd\n",
    "from matplotlib.colors import LogNorm\n",
    "\n",
    "### variables de input \n",
    "\n",
    "\n",
    "dEdx =20 #muon stopping power in the material \n",
    "file = './rastert_dem_uni1-clean.txt' ## DEM file \n",
    "\n",
    "inicio = 380 # indice donde quiero empezar a analizar en el eje X \n",
    "punto_inicio=[50,120]# punto desde donde se coloca el observador #punto_inicio[1] es el valor de fila, \n",
    "                     # y el que genera de atenuación y distancias para ayuda gráfica\n",
    "\n",
    "xplotrango, yplotrango = 70, 250 #rango de plots\n",
    "\n",
    "\n",
    "## línea de visión \n",
    "def recta(x_0, y_0, x_1,y_1,x): # todos los puntos son conocidos, la función bota un punto adelante \n",
    "    m=(y_1-y_0)/(x_1-x_0)\n",
    "    y_recta= y_0+m*(x-x_0)     \n",
    "\n",
    "    return y_recta \n",
    "\n",
    "def angle(x_0, y_0, x,y): # todos los puntos son conocidos, la función bota un punto adelante \n",
    "    angle = np.arctan((y-y_0)/(x-x_0))*180/np.pi\n",
    "\n",
    "    return angle\n",
    "\n",
    "#### SUPER IMPORTANTE \n",
    "def indice_final(inicio, array1, array2):  # genera el index final de intersección \n",
    "    for i in range(inicio,len(array1)):           \n",
    "        if (array1-array2)[i] >= 0: #la condicion. \n",
    "            indice_final=i\n",
    "    return indice_final\n",
    "\n",
    "#funcion para calcular la distancia entre dos puntos \n",
    "# p1 y p2 son array de dos dimensiones  que tiene los puntos (x,y)\n",
    "\n",
    "def distancia(p1, p2): #la entrada     \n",
    "    resto = p2**2-p1**2\n",
    "    dist = math.sqrt(abs(resto[0])+ abs(resto[1]))  \n",
    "    return dist  \n"
   ]
  },
  {
   "cell_type": "markdown",
   "id": "14db2d5a",
   "metadata": {},
   "source": [
    "Luego de definir las funciones, se carga los datos del eje X. Que podrá ser valores reales de posición o índices que ordenan los valores. "
   ]
  },
  {
   "cell_type": "markdown",
   "id": "4aa174ce",
   "metadata": {},
   "source": [
    "## Cargar los datos del raster DEM\n"
   ]
  },
  {
   "cell_type": "code",
   "execution_count": 2,
   "id": "abb727e2",
   "metadata": {},
   "outputs": [],
   "source": [
    "df = pd.read_csv(file, sep =\" \", header=None)\n",
    "df = df.fillna(0)\n",
    "df = df.drop(columns=626)#eliminar la última columna \n",
    "columnas = df.shape[1] "
   ]
  },
  {
   "cell_type": "code",
   "execution_count": 3,
   "id": "ff040e26",
   "metadata": {},
   "outputs": [],
   "source": [
    "#array con los valores de X que depende de el número de celdas que tiene la información GIS \n",
    "# el valor real debe salir de df_limpio.shape[1]\n",
    "arr_x = np.linspace(0,columnas-1,columnas)\n",
    "\n",
    "#array con los valores de X "
   ]
  },
  {
   "cell_type": "code",
   "execution_count": 4,
   "id": "100d9f70",
   "metadata": {},
   "outputs": [
    {
     "name": "stdout",
     "output_type": "stream",
     "text": [
      "246.97396138692434\n",
      "[114.39680303 114.50886697 114.62093091 114.73299485 114.84505879\n",
      " 114.95712273 115.06918667 115.18125061 115.29331455 115.40537848\n",
      " 115.51744242 115.62950636 115.7415703  115.85363424 115.96569818\n",
      " 116.07776212 116.18982606 116.30189    116.41395394 116.52601788\n",
      " 116.63808182 116.75014576 116.8622097  116.97427364 117.08633758\n",
      " 117.19840152 117.31046545 117.42252939 117.53459333 117.64665727\n",
      " 117.75872121 117.87078515 117.98284909 118.09491303 118.20697697\n",
      " 118.31904091 118.43110485 118.54316879 118.65523273 118.76729667\n",
      " 118.87936061 118.99142455 119.10348848 119.21555242 119.32761636\n",
      " 119.4396803  119.55174424 119.66380818 119.77587212 119.88793606\n",
      " 120.         120.11206394 120.22412788 120.33619182 120.44825576\n",
      " 120.5603197  120.67238364 120.78444758 120.89651152 121.00857545\n",
      " 121.12063939 121.23270333 121.34476727 121.45683121 121.56889515\n",
      " 121.68095909 121.79302303 121.90508697 122.01715091 122.12921485\n",
      " 122.24127879 122.35334273 122.46540667 122.57747061 122.68953455\n",
      " 122.80159848 122.91366242 123.02572636 123.1377903  123.24985424\n",
      " 123.36191818 123.47398212 123.58604606 123.69811    123.81017394\n",
      " 123.92223788 124.03430182 124.14636576 124.2584297  124.37049364\n",
      " 124.48255758 124.59462152 124.70668545 124.81874939 124.93081333\n",
      " 125.04287727 125.15494121 125.26700515 125.37906909 125.49113303\n",
      " 125.60319697 125.71526091 125.82732485 125.93938879 126.05145273\n",
      " 126.16351667 126.27558061 126.38764455 126.49970848 126.61177242\n",
      " 126.72383636 126.8359003  126.94796424 127.06002818 127.17209212\n",
      " 127.28415606 127.39622    127.50828394 127.62034788 127.73241182\n",
      " 127.84447576 127.9565397  128.06860364 128.18066758 128.29273152\n",
      " 128.40479545 128.51685939 128.62892333 128.74098727 128.85305121\n",
      " 128.96511515 129.07717909 129.18924303 129.30130697 129.41337091\n",
      " 129.52543485 129.63749879 129.74956273 129.86162667 129.97369061\n",
      " 130.08575455 130.19781848 130.30988242 130.42194636 130.5340103\n",
      " 130.64607424 130.75813818 130.87020212 130.98226606 131.09433\n",
      " 131.20639394 131.31845788 131.43052182 131.54258576 131.6546497\n",
      " 131.76671364 131.87877758 131.99084152 132.10290545 132.21496939\n",
      " 132.32703333 132.43909727 132.55116121 132.66322515 132.77528909\n",
      " 132.88735303 132.99941697 133.11148091 133.22354485 133.33560879\n",
      " 133.44767273 133.55973667 133.67180061 133.78386455 133.89592848\n",
      " 134.00799242 134.12005636 134.2321203  134.34418424 134.45624818\n",
      " 134.56831212 134.68037606 134.79244    134.90450394 135.01656788\n",
      " 135.12863182 135.24069576 135.3527597  135.46482364 135.57688758\n",
      " 135.68895152 135.80101545 135.91307939 136.02514333 136.13720727\n",
      " 136.24927121 136.36133515 136.47339909 136.58546303 136.69752697\n",
      " 136.80959091 136.92165485 137.03371879 137.14578273 137.25784667\n",
      " 137.36991061 137.48197455 137.59403848 137.70610242 137.81816636\n",
      " 137.9302303  138.04229424 138.15435818 138.26642212 138.37848606\n",
      " 138.49055    138.60261394 138.71467788 138.82674182 138.93880576\n",
      " 139.0508697  139.16293364 139.27499758 139.38706152 139.49912545\n",
      " 139.61118939 139.72325333 139.83531727 139.94738121 140.05944515\n",
      " 140.17150909 140.28357303 140.39563697 140.50770091 140.61976485\n",
      " 140.73182879 140.84389273 140.95595667 141.06802061 141.18008455\n",
      " 141.29214848 141.40421242 141.51627636 141.6283403  141.74040424\n",
      " 141.85246818 141.96453212 142.07659606 142.18866    142.30072394\n",
      " 142.41278788 142.52485182 142.63691576 142.7489797  142.86104364\n",
      " 142.97310758 143.08517152 143.19723545 143.30929939 143.42136333\n",
      " 143.53342727 143.64549121 143.75755515 143.86961909 143.98168303\n",
      " 144.09374697 144.20581091 144.31787485 144.42993879 144.54200273\n",
      " 144.65406667 144.76613061 144.87819455 144.99025848 145.10232242\n",
      " 145.21438636 145.3264503  145.43851424 145.55057818 145.66264212\n",
      " 145.77470606 145.88677    145.99883394 146.11089788 146.22296182\n",
      " 146.33502576 146.4470897  146.55915364 146.67121758 146.78328152\n",
      " 146.89534545 147.00740939 147.11947333 147.23153727 147.34360121\n",
      " 147.45566515 147.56772909 147.67979303 147.79185697 147.90392091\n",
      " 148.01598485 148.12804879 148.24011273 148.35217667 148.46424061\n",
      " 148.57630455 148.68836848 148.80043242 148.91249636 149.0245603\n",
      " 149.13662424 149.24868818 149.36075212 149.47281606 149.58488\n",
      " 149.69694394 149.80900788 149.92107182 150.03313576 150.1451997\n",
      " 150.25726364 150.36932758 150.48139152 150.59345545 150.70551939\n",
      " 150.81758333 150.92964727 151.04171121 151.15377515 151.26583909\n",
      " 151.37790303 151.48996697 151.60203091 151.71409485 151.82615879\n",
      " 151.93822273 152.05028667 152.16235061 152.27441455 152.38647848\n",
      " 152.49854242 152.61060636 152.7226703  152.83473424 152.94679818\n",
      " 153.05886212 153.17092606 153.28299    153.39505394 153.50711788\n",
      " 153.61918182 153.73124576 153.8433097  153.95537364 154.06743758\n",
      " 154.17950152 154.29156545 154.40362939 154.51569333 154.62775727\n",
      " 154.73982121 154.85188515 154.96394909 155.07601303 155.18807697\n",
      " 155.30014091 155.41220485 155.52426879 155.63633273 155.74839667\n",
      " 155.86046061 155.97252455 156.08458848 156.19665242 156.30871636\n",
      " 156.4207803  156.53284424 156.64490818 156.75697212 156.86903606\n",
      " 156.9811     157.09316394 157.20522788 157.31729182 157.42935576\n",
      " 157.5414197  157.65348364 157.76554758 157.87761152 157.98967545\n",
      " 158.10173939 158.21380333 158.32586727 158.43793121 158.54999515\n",
      " 158.66205909 158.77412303 158.88618697 158.99825091 159.11031485\n",
      " 159.22237879 159.33444273 159.44650667 159.55857061 159.67063455\n",
      " 159.78269848 159.89476242 160.00682636 160.1188903  160.23095424\n",
      " 160.34301818 160.45508212 160.56714606 160.67921    160.79127394\n",
      " 160.90333788 161.01540182 161.12746576 161.2395297  161.35159364\n",
      " 161.46365758 161.57572152 161.68778545 161.79984939 161.91191333\n",
      " 162.02397727 162.13604121 162.24810515 162.36016909 162.47223303\n",
      " 162.58429697 162.69636091 162.80842485 162.92048879 163.03255273\n",
      " 163.14461667 163.25668061 163.36874455 163.48080848 163.59287242\n",
      " 163.70493636 163.8170003  163.92906424 164.04112818 164.15319212\n",
      " 164.26525606 164.37732    164.48938394 164.60144788 164.71351182\n",
      " 164.82557576 164.9376397  165.04970364 165.16176758 165.27383152\n",
      " 165.38589545 165.49795939 165.61002333 165.72208727 165.83415121\n",
      " 165.94621515 166.05827909 166.17034303 166.28240697 166.39447091\n",
      " 166.50653485 166.61859879 166.73066273 166.84272667 166.95479061\n",
      " 167.06685455 167.17891848 167.29098242 167.40304636 167.5151103\n",
      " 167.62717424 167.73923818 167.85130212 167.96336606 168.07543\n",
      " 168.18749394 168.29955788 168.41162182 168.52368576 168.6357497\n",
      " 168.74781364 168.85987758 168.97194152 169.08400545 169.19606939\n",
      " 169.30813333 169.42019727 169.53226121 169.64432515 169.75638909\n",
      " 169.86845303 169.98051697 170.09258091 170.20464485 170.31670879\n",
      " 170.42877273 170.54083667 170.65290061 170.76496455 170.87702848\n",
      " 170.98909242 171.10115636 171.2132203  171.32528424 171.43734818\n",
      " 171.54941212 171.66147606 171.77354    171.88560394 171.99766788\n",
      " 172.10973182 172.22179576 172.3338597  172.44592364 172.55798758\n",
      " 172.67005152 172.78211545 172.89417939 173.00624333 173.11830727\n",
      " 173.23037121 173.34243515 173.45449909 173.56656303 173.67862697\n",
      " 173.79069091 173.90275485 174.01481879 174.12688273 174.23894667\n",
      " 174.35101061 174.46307455 174.57513848 174.68720242 174.79926636\n",
      " 174.9113303  175.02339424 175.13545818 175.24752212 175.35958606\n",
      " 175.47165    175.58371394 175.69577788 175.80784182 175.91990576\n",
      " 176.0319697  176.14403364 176.25609758 176.36816152 176.48022545\n",
      " 176.59228939 176.70435333 176.81641727 176.92848121 177.04054515\n",
      " 177.15260909 177.26467303 177.37673697 177.48880091 177.60086485\n",
      " 177.71292879 177.82499273 177.93705667 178.04912061 178.16118455\n",
      " 178.27324848 178.38531242 178.49737636 178.6094403  178.72150424\n",
      " 178.83356818 178.94563212 179.05769606 179.16976    179.28182394\n",
      " 179.39388788 179.50595182 179.61801576 179.7300797  179.84214364\n",
      " 179.95420758 180.06627152 180.17833545 180.29039939 180.40246333\n",
      " 180.51452727 180.62659121 180.73865515 180.85071909 180.96278303\n",
      " 181.07484697 181.18691091 181.29897485 181.41103879 181.52310273\n",
      " 181.63516667 181.74723061 181.85929455 181.97135848 182.08342242\n",
      " 182.19548636 182.3075503  182.41961424 182.53167818 182.64374212\n",
      " 182.75580606 182.86787    182.97993394 183.09199788 183.20406182\n",
      " 183.31612576 183.4281897  183.54025364 183.65231758 183.76438152\n",
      " 183.87644545 183.98850939 184.10057333 184.21263727 184.32470121\n",
      " 184.43676515]\n"
     ]
    }
   ],
   "source": [
    "####  Puntos de la curva \n",
    "np_array = df.iloc[punto_inicio[1]].to_numpy()\n",
    "vec_recta= [] \n",
    "\n",
    "#Obtener los límites \n",
    "for j in range(0,len(arr_x)):        \n",
    "    tm=recta(punto_inicio[0],punto_inicio[1],arr_x[inicio], np_array[inicio], arr_x[j]) \n",
    "    vec_recta.append(tm)\n",
    "    recta_vec = np.asarray(vec_recta)  \n",
    "\n",
    "\n",
    "lf= indice_final(inicio, np_array, recta_vec) # indice de intersección entre DM y P2\n",
    "int_i= np.asarray([inicio,np_array[inicio]])#convertir los puntos iniciales en el  array  PUNTO DE INICIO P1\n",
    "int_f= np.asarray([lf,np_array[lf]])#convertir los puntos finales en el  array \n",
    "depth_i = distancia(int_i, int_f) #cacula la distancia \n",
    "print(depth_i)\n",
    "    \n",
    "    \n",
    "##########33    \n",
    "    \n",
    "an=angle(punto_inicio[0],punto_inicio[1],arr_x[j], np_array[j])\n",
    "vec = (punto_inicio[0], punto_inicio[1], arr_x[inicio], np_array[inicio], depth_i, an)\n",
    "\n",
    "    \n",
    "print(recta_vec)\n",
    "\n"
   ]
  },
  {
   "cell_type": "code",
   "execution_count": 75,
   "id": "7649d1e3",
   "metadata": {},
   "outputs": [
    {
     "name": "stdout",
     "output_type": "stream",
     "text": [
      " inicio:381 depth:(243.00884257172618, 449)\n",
      "[120, 50, 109.7113, 380, 156.9811, 450, 165.9494, 6.3941133613717485, 246.97396138692434]\n",
      "6.3941133613717485\n",
      "6.682077586931157\n",
      "6.894894868481532\n",
      "7.046361699928544\n",
      "7.281621921859474\n",
      "7.511955119011925\n",
      "7.740072783157659\n",
      "7.95883813378148\n",
      "8.218093023124885\n",
      "8.326948259904805\n",
      "8.402913817559531\n",
      "8.416656927192431\n",
      "8.461741655960617\n",
      "8.59616665827449\n",
      "8.767951136166396\n",
      "8.968124542614033\n",
      "9.160821585814825\n",
      "9.312553752743865\n",
      "9.432651863453534\n",
      "9.565213379377594\n",
      "9.669125292262658\n",
      "9.723815735252172\n",
      "9.901811088949225\n",
      "10.065484059203701\n",
      "10.248020840748307\n",
      "10.390913753848775\n",
      "10.50555476057166\n",
      "10.558665229997926\n",
      "10.610672251478816\n"
     ]
    }
   ],
   "source": [
    "####  Puntos de la curva \n",
    "np_array = df.iloc[fila].to_numpy()\n",
    "vec_recta= [] \n",
    "\n",
    "\n",
    "############\n",
    "def depth(arr_x, ptx):\n",
    "    vec_recta = []\n",
    "    #Obtener los límites \n",
    "    for j in range(0,len(arr_x)):        \n",
    "        tm=recta(punto_inicio[0],punto_inicio[1],arr_x[ptx], np_array[ptx], arr_x[j]) \n",
    "        vec_recta.append(tm)\n",
    "        recta_vec = np.asarray(vec_recta)  \n",
    "    \n",
    "\n",
    "    lf= indice_final(ptx, np_array, recta_vec) # indice de intersección entre DM y P2\n",
    "    \n",
    "    int_i= np.asarray([ptx,np_array[ptx]])#convertir los puntos iniciales en el  array  PUNTO DE INICIO P1\n",
    "    int_f= np.asarray([lf,np_array[lf]])#convertir los puntos finales en el  array \n",
    "    depth_i = distancia(int_i, int_f) #cacula la distancia \n",
    "    \n",
    "    return (depth_i, lf)\n",
    "    \n",
    "    \n",
    "##########33    \n",
    "    \n",
    "\n",
    "vec = (punto_inicio[0], punto_inicio[1], arr_x[inicio], np_array[inicio], depth_i, an)\n",
    "\n",
    "    \n",
    "print(f\" inicio:{381} depth:{depth(arr_x, 381)}\")\n",
    "vec =[]\n",
    "vecangle = []\n",
    "vec2=[]\n",
    "\n",
    "for j in range(inicio,len(arr_x)):       \n",
    "    profundidad = depth(arr_x, j)[0]\n",
    "    indicefinal = depth(arr_x, j)[1]\n",
    "    if profundidad != 0:         \n",
    "        an=angle(punto_inicio[0],punto_inicio[1],arr_x[j], np_array[j])\n",
    "        vec.append([fila, punto_inicio[0],np_array[punto_inicio[1]],j,np_array[j], indicefinal, np_array[indicefinal], an, profundidad])\n",
    "    else:\n",
    "        break \n",
    "    \n",
    "    \n",
    "\n",
    "\n",
    "print(vec[0])\n",
    "for n in range(0, len(vec)):\n",
    "    print(vec[n][7])\n",
    " "
   ]
  },
  {
   "cell_type": "code",
   "execution_count": null,
   "id": "dcc61f98",
   "metadata": {},
   "outputs": [],
   "source": [
    "for fil in range(fila, fila+2):\n",
    "    griddistance = []\n",
    "    \n",
    "    "
   ]
  },
  {
   "cell_type": "code",
   "execution_count": 71,
   "id": "921ce70b",
   "metadata": {},
   "outputs": [
    {
     "name": "stdout",
     "output_type": "stream",
     "text": [
      "[ 1 22  3]\n",
      "<class 'numpy.ndarray'>\n"
     ]
    },
    {
     "data": {
      "image/png": "[encoded data removed]",
      "text/plain": [
       "<Figure size 216x144 with 2 Axes>"
      ]
     },
     "metadata": {
      "needs_background": "light"
     },
     "output_type": "display_data"
    }
   ],
   "source": [
    "a = np.array((1,22,3))\n",
    "\n",
    "b = np.array((2,3,4))\n",
    "print(a)\n",
    "c =np.column_stack((a,b))\n",
    "\n",
    "print(type(c))\n",
    "\n",
    "fig = plt.figure(figsize=(3,2)) #columnas y filas del array\n",
    "plt.pcolormesh(c,cmap=\"plasma\")\n",
    "plt.title(\"Plot 2D array\")\n",
    "plt.colorbar()\n",
    "plt.show()\n",
    "\n"
   ]
  },
  {
   "cell_type": "code",
   "execution_count": null,
   "id": "a7f8705e",
   "metadata": {},
   "outputs": [],
   "source": [
    "#cálculo de la distancia  \n",
    "lf= indice_final(np_array, recta_vec) # indice final de intersección  # PUNTO 2 P2\n",
    "\n",
    " \n",
    "    \n",
    "int_i= np.asarray([inicio,np_array[inicio]])#convertir los puntos iniciales en el  array  PUNTO DE INICIO P1\n",
    "int_f= np.asarray([lf,np_array[lf]])#convertir los puntos finales en el  array \n",
    "depth_i = distancia(int_i, int_f) #cacula la distancia \n",
    "\n",
    "print(depth_i)\n",
    "\n",
    "vec_angle_depth = (angle(punto_inicio[0],punto_inicio[1],arr_x[inicio], np_array[inicio]), depth_i)\n"
   ]
  },
  {
   "cell_type": "code",
   "execution_count": null,
   "id": "897ae33f",
   "metadata": {},
   "outputs": [],
   "source": [
    "print(vec_angle_depth)"
   ]
  },
  {
   "cell_type": "markdown",
   "id": "d0494ce8",
   "metadata": {},
   "source": [
    "### cálculo de la atenuación"
   ]
  },
  {
   "cell_type": "code",
   "execution_count": null,
   "id": "948b031c",
   "metadata": {},
   "outputs": [],
   "source": [
    "depthdEdX= dEdx*depth_i\n",
    "print(depthdEdX)"
   ]
  },
  {
   "cell_type": "markdown",
   "id": "88ea41eb",
   "metadata": {},
   "source": [
    "### análisis del ángulo"
   ]
  },
  {
   "cell_type": "code",
   "execution_count": null,
   "id": "eabc6bbd",
   "metadata": {},
   "outputs": [],
   "source": [
    "arr_t = np.linspace(inicio,columnas-1,columnas-inicio)\n",
    "\n",
    "plt.title(\"Evolución del ángulo\")\n",
    "plt.xlabel(\"Índice\")\n",
    "plt.ylabel(\"Valor del ángulo\")\n",
    "plt.xlim([punto_inicio[0], len(arr_x)]) # limita el rango en el que se muestra el eje Y\n",
    "plt.axvline(x = inicio, color = 'b', label = 'axvline - full height')\n",
    "plt.axvline(x = lf, color = 'b', label = 'axvline - full height')\n",
    "\n",
    "\n",
    "plt.plot(arr_t, recta_angle, color=\"red\", label=\"Evolución del ángulo de apertura\") "
   ]
  },
  {
   "cell_type": "code",
   "execution_count": null,
   "id": "cae8e76c",
   "metadata": {},
   "outputs": [],
   "source": [
    "vec_angle=[]\n",
    "vec_angle_energy = []\n",
    "vec_angle_perindex = []\n",
    "vec_angle_energy = []  \n",
    "\n",
    "#esto genera el ángulo \n",
    "for j in range(inicio,len(arr_x)):        \n",
    "    an=angle(punto_inicio[0],punto_inicio[1],arr_x[j], np_array[j])\n",
    "    vec_angle.append(an) \n",
    "    recta_angle = np.asarray(vec_angle)  \n",
    " \n",
    "\n",
    "num_bins = 20\n",
    "plt.title(\"Distribución del ángulo\")\n",
    "plt.hist(recta_angle, num_bins)  \n",
    "plt.show()"
   ]
  },
  {
   "cell_type": "code",
   "execution_count": null,
   "id": "127c2899",
   "metadata": {},
   "outputs": [],
   "source": [
    "### Plot del perfil y la gráfica \n",
    "plt.ylim([xplotrango, yplotrango ]) # limita el rango en el que se muestra el eje Y\n",
    "plt.plot(recta_vec) \n",
    "plt.axvline(x = inicio, color = 'b', label = 'axvline - full height')\n",
    "plt.axvline(x = punto_inicio[0], color = 'b', label = 'axvline - full height')\n",
    "\n",
    "plt.axhline(y = punto_inicio[1], color = 'b', label = 'axvline - full height')\n",
    "\n",
    "plt.plot(np_array)\n"
   ]
  },
  {
   "cell_type": "code",
   "execution_count": null,
   "id": "5505d8ee",
   "metadata": {},
   "outputs": [],
   "source": [
    "vec_angle_energy = (angle(punto_inicio[0],punto_inicio[1],arr_x[inicio], np_array[inicio]), depthdEdX)\n",
    "print (vec_angle_energy )\n"
   ]
  },
  {
   "cell_type": "markdown",
   "id": "48f76cd9",
   "metadata": {},
   "source": [
    "## Cargar los datos del flujo de muones simulados"
   ]
  },
  {
   "cell_type": "markdown",
   "id": "3be06021",
   "metadata": {},
   "source": [
    "### Distribución de muones atmosféricos en la superficie \n",
    "\n",
    "- 12 column format is:\n",
    "- CorsikaId px py pz x y z shower_id prm_id prm_energy prm_theta prm_phi"
   ]
  },
  {
   "cell_type": "code",
   "execution_count": null,
   "id": "460007ab",
   "metadata": {},
   "outputs": [],
   "source": [
    "datacorsikashw = pd.read_csv('/home/justus/Documentos/cosmicraysuni/CORSIKA_production/c_data/salida_d_2.shw', sep =\" \", header=None, skiprows= 6)\n",
    "\n",
    "\n",
    "#shower = datacorsikashw.fillna(0)\n",
    "#df_limpio=df.drop(columns=626)#eliminar la última columna \n",
    "#df_limpio.head() "
   ]
  },
  {
   "cell_type": "code",
   "execution_count": null,
   "id": "03d55f89",
   "metadata": {},
   "outputs": [],
   "source": [
    "datacorsikashw=datacorsikashw.drop([0])#eliminar la primera fila \n",
    "\n",
    "datacorsikashw.head() "
   ]
  },
  {
   "cell_type": "code",
   "execution_count": null,
   "id": "95dda32e",
   "metadata": {},
   "outputs": [],
   "source": [
    "#print(datacorsikashw.dtypes)  \n",
    "muonflux = datacorsikashw[(datacorsikashw[0]== 5) | (datacorsikashw[0]== 6)  ] \n",
    "\n",
    "points = len(muonflux)\n",
    "print(points)\n"
   ]
  },
  {
   "cell_type": "code",
   "execution_count": null,
   "id": "01f3c392",
   "metadata": {},
   "outputs": [],
   "source": [
    "muonflux.head()"
   ]
  },
  {
   "cell_type": "code",
   "execution_count": null,
   "id": "cf199b69",
   "metadata": {},
   "outputs": [],
   "source": [
    "pxpypz=muonflux.iloc[:,[1,2,3]].to_numpy() #seleccion de las colummnas de muones + y - \n",
    "type(pxpypz)\n",
    "print(pxpypz[0])"
   ]
  },
  {
   "cell_type": "code",
   "execution_count": null,
   "id": "9248ef39",
   "metadata": {},
   "outputs": [],
   "source": [
    "muonp2 = []\n",
    "muoncos = []\n",
    "muontheta = []\n",
    "for i in range(0, points, 1):\n",
    "    p2 = pxpypz[i][0]*pxpypz[i][0]+pxpypz[i][1]*pxpypz[i][1]+pxpypz[i][2]*pxpypz[i][2]\n",
    "    cos = pxpypz[i][2]/(np.sqrt(p2))\n",
    "    arcos = (np.arccos(cos))*360/(2*np.pi)\n",
    "    muonp2.append(p2)\n",
    "    muoncos.append(cos)\n",
    "    muontheta.append(arcos)\n"
   ]
  },
  {
   "cell_type": "code",
   "execution_count": null,
   "id": "fa47e339",
   "metadata": {},
   "outputs": [],
   "source": [
    " \n",
    "for i in range(0,10,1):\n",
    "    print(muontheta[i])"
   ]
  },
  {
   "cell_type": "code",
   "execution_count": null,
   "id": "2798dfef",
   "metadata": {},
   "outputs": [],
   "source": [
    " \n",
    "for i in range(0,10,1):\n",
    "    print(muoncos[i])"
   ]
  },
  {
   "cell_type": "code",
   "execution_count": null,
   "id": "527ef5d0",
   "metadata": {},
   "outputs": [],
   "source": [
    "#plt.hist(muontheta, bins = [0,10, 20, 30, 40, 50, 60, 70, 80, 90]) \n",
    "num_bins = 100\n",
    "plt.hist(muontheta, num_bins) \n",
    "\n",
    "plt.title(\"histogram\") \n",
    "plt.show()"
   ]
  },
  {
   "cell_type": "code",
   "execution_count": null,
   "id": "5f4051a3",
   "metadata": {},
   "outputs": [],
   "source": [
    "from numpy import array, exp\n",
    "from scipy.optimize import curve_fit\n",
    "import matplotlib.pyplot as plt\n",
    "\n",
    "y = array([12, 11, 13, 15, 16, 16, 15, 14, 15, 12, 11, 12, 8, 10, 9, 7, 6])\n",
    "x = array(range(len(y)))\n",
    "\n",
    "def func1(x, a, b, c):\n",
    "    return a*x**2+b*x+c\n",
    "\n",
    "def func2(x, a, b, c):\n",
    "    return a*x**3+b*x+c\n",
    "\n",
    "def func3(x, a, b, c):\n",
    "    return a*x**3+b*x**2+c\n",
    "\n",
    "def func4(x, a, b, c):\n",
    "    return a*exp(b*x)+c\n",
    "\n",
    "params, covs = curve_fit(func1, x, y)\n",
    "print(\"params: \", params)\n",
    "print(\"covariance: \", covs)\n",
    "\n",
    "params, _ = curve_fit(func1, x, y)\n",
    "a, b, c = params[0], params[1], params[2]\n",
    "yfit1 = a*x**2+b*x+c\n",
    "\n",
    "params, _  = curve_fit(func2, x, y)\n",
    "a, b, c = params[0], params[1], params[2]\n",
    "yfit2 = a*x**3+b*x+c\n",
    "\n",
    "params, _  = curve_fit(func3, x, y)\n",
    "a, b, c = params[0], params[1], params[2]\n",
    "yfit3 = a*x**3+b*x**2+c\n",
    "\n",
    "params, _  = curve_fit(func4, x, y)\n",
    "a, b, c = params[0], params[1], params[2]\n",
    "yfit4 = a*exp(x*b)+c\n",
    "\n",
    "plt.plot(x, y, 'bo', label=\"y-original\")\n",
    "plt.plot(x, yfit1, label=\"y=a*x^2+b*x+c\")\n",
    "plt.plot(x, yfit2, label=\"y=a*x^3+b*x+c\")\n",
    "plt.plot(x, yfit3, label=\"y=a*x^3+b*x^2*c\")\n",
    "plt.plot(x, yfit4, label=\"y=a*exp(b*x)+c\")\n",
    "plt.xlabel('x')\n",
    "plt.ylabel('y')\n",
    "plt.legend(loc='best', fancybox=True, shadow=True)\n",
    "plt.grid(True)\n",
    "plt.show() \n"
   ]
  },
  {
   "cell_type": "code",
   "execution_count": null,
   "id": "3b91cfca",
   "metadata": {},
   "outputs": [],
   "source": [
    "from scipy.optimize import curve_fit\n",
    "\n",
    "# 2.) Define fit function.\n",
    "def fit_function(x, I, n):\n",
    "    return (I)*np.cos(x)*np.sin(x)\n",
    "\n",
    "\n",
    "# 3.) Generate exponential and gaussian data and histograms.\n",
    "#data = np.random.exponential(scale=2.0, size=100)\n",
    "#data2 = np.random.normal(loc=3.0, scale=0.3, size=100)\n",
    "bins = np.linspace(0, 90, 352552)\n",
    "data_entries_1, bins_1 = np.histogram(data, bins=bins)\n",
    "#data_entries_2, bins_2 = np.histogram(data2, bins=bins)\n",
    "\n",
    "# 4.) Add histograms of exponential and gaussian data.\n",
    "#data_entries = data_entries_1 + data_entries_2\n",
    "#binscenters = np.array([0.5 * (bins[i] + bins[i+1]) for i in range(len(bins)-1)])\n",
    "\n",
    "# 5.) Fit the function to the histogram data.\n",
    "popt, pcov = curve_fit(fit_function, bins_1, muontheta)\n",
    "print(popt)\n",
    "\n",
    "plt.hist(muontheta,bins,  label=\"y-original\")\n",
    "#plt.plot(bins, fit_function, label=\"y=a*x^2+b*x+c\")\n",
    "\n",
    "plt.xlabel('x')\n",
    "plt.ylabel('y')\n",
    "plt.legend(loc='best', fancybox=True, shadow=True)\n",
    "plt.grid(True)\n",
    "plt.show() "
   ]
  },
  {
   "cell_type": "code",
   "execution_count": null,
   "id": "cd0c5c0f",
   "metadata": {},
   "outputs": [],
   "source": [
    "\n",
    "# 6.)\n",
    "# Generate enough x values to make the curves look smooth.\n",
    "xspace = np.linspace(0, 6, 100000)\n",
    "\n",
    "# Plot the histogram and the fitted function.\n",
    "plt.bar(binscenters, data_entries, width=bins[1] - bins[0], color='navy', label=r'Histogram entries')\n",
    "plt.plot(xspace, fit_function(xspace, *popt), color='darkorange', linewidth=2.5, label=r'Fitted function')\n",
    "\n",
    "# Make the plot nicer.\n",
    "plt.xlim(0,6)\n",
    "plt.xlabel(r'x axis')\n",
    "plt.ylabel(r'Number of entries')\n",
    "plt.title(r'Exponential decay with gaussian peak')\n",
    "plt.legend(loc='best')\n",
    "plt.show()\n",
    "plt.clf()"
   ]
  },
  {
   "cell_type": "code",
   "execution_count": null,
   "id": "5324ca3e",
   "metadata": {},
   "outputs": [],
   "source": [
    "import numpy as np\n",
    "\n",
    "import matplotlib.pyplot as plt\n",
    "from scipy.optimize import curve_fit\n",
    "\n",
    "# 2.) Define fit function.\n",
    "def fit_function(x, A, beta, B, mu, sigma):\n",
    "    return (A * np.exp(-x/beta) + B * np.exp(-1.0 * (x - mu)**2 / (2 * sigma**2)))\n",
    "\n",
    "# 3.) Generate exponential and gaussian data and histograms.\n",
    "data = np.random.exponential(scale=2.0, size=100000)\n",
    "data2 = np.random.normal(loc=3.0, scale=0.3, size=15000)\n",
    "bins = np.linspace(0, 6, 61)\n",
    "data_entries_1, bins_1 = np.histogram(data, bins=bins)\n",
    "data_entries_2, bins_2 = np.histogram(data2, bins=bins)\n",
    "\n",
    "# 4.) Add histograms of exponential and gaussian data.\n",
    "data_entries = data_entries_1 + data_entries_2\n",
    "binscenters = np.array([0.5 * (bins[i] + bins[i+1]) for i in range(len(bins)-1)])\n",
    "\n",
    "# 5.) Fit the function to the histogram data.\n",
    "popt, pcov = curve_fit(fit_function, xdata=binscenters, ydata=data_entries, p0=[20000, 2.0, 2000, 3.0, 0.3])\n",
    "print(popt)\n",
    "\n",
    "# 6.)\n",
    "# Generate enough x values to make the curves look smooth.\n",
    "xspace = np.linspace(0, 6, 100000)\n",
    "\n",
    "# Plot the histogram and the fitted function.\n",
    "plt.bar(binscenters, data_entries, width=bins[1] - bins[0], color='navy', label=r'Histogram entries')\n",
    "plt.plot(xspace, fit_function(xspace, *popt), color='darkorange', linewidth=2.5, label=r'Fitted function')\n",
    "\n",
    "# Make the plot nicer.\n",
    "plt.xlim(0,6)\n",
    "plt.xlabel(r'x axis')\n",
    "plt.ylabel(r'Number of entries')\n",
    "plt.title(r'Exponential decay with gaussian peak')\n",
    "plt.legend(loc='best')\n",
    "plt.show()\n",
    "plt.clf()"
   ]
  },
  {
   "cell_type": "markdown",
   "id": "bdf90b8b",
   "metadata": {},
   "source": [
    "### Flujo de muones atmosféricos en la superficie"
   ]
  },
  {
   "cell_type": "code",
   "execution_count": null,
   "id": "39d0f097",
   "metadata": {},
   "outputs": [],
   "source": [
    "datacorsikahst = pd.read_csv('/home/justus/Documentos/cosmicraysuni/CORSIKA_production/c_data/salida.hst', sep =\" \", header=None, skiprows= 5)\n",
    "showerhst=datacorsikahst.drop([157, 158,159, 160, 161, 162])#eliminar la última columna \n",
    "showerhst=showerhst.drop(columns=14)#eliminar la última columna \n",
    " \n",
    "showerhst"
   ]
  },
  {
   "cell_type": "code",
   "execution_count": null,
   "id": "9088d125",
   "metadata": {},
   "outputs": [],
   "source": [
    "muonshower=showerhst.drop([0])#eliminar la primera fila \n",
    "muonshower[0] = muonshower[0].astype(float) \n",
    "muonshower[4] = muonshower[4].astype(float) \n",
    "muonshower[5] = muonshower[5].astype(float) \n",
    "muonshower[13] = muonshower[13].astype(float) \n",
    " "
   ]
  },
  {
   "cell_type": "code",
   "execution_count": null,
   "id": "33908bb4",
   "metadata": {},
   "outputs": [],
   "source": [
    " \n",
    "\n",
    "# we make a plot of the results for each offset\n",
    "fig, ax = plt.subplots()\n",
    "colors = [\"crimson\", \"dodgerblue\"]\n",
    "    \n",
    "\n",
    "muonshower.plot(ax=ax, kind = 'scatter', x=0, y=5, color = \"green\", label=\"muon+\")\n",
    "muonshower.plot(ax=ax, kind = 'scatter', x=0, y=4, color=\"red\", label=\"muon-\")\n",
    "muonshower.plot(ax=ax, kind = 'scatter', x=0, y=13, color=\"blue\", label=\"total\")\n",
    "\n",
    "plt.xlabel(\"Energy (GeV)\")\n",
    "plt.ylabel(\"Flux\")\n",
    "plt.legend()\n",
    "        \n",
    "        \n",
    "plt.xscale(\"log\")\n",
    "plt.yscale(\"log\")\n",
    "plt.show()"
   ]
  },
  {
   "cell_type": "markdown",
   "id": "b501d670",
   "metadata": {},
   "source": [
    "#### Convertir en numpy un conjunto de datos"
   ]
  },
  {
   "cell_type": "code",
   "execution_count": null,
   "id": "989cf81c",
   "metadata": {},
   "outputs": [],
   "source": [
    "\n",
    "\n",
    "#energymuon=muonshower.iloc[:,[0,4,5,13]].to_numpy() #seleccion de las colummnas de muones + y - \n"
   ]
  },
  {
   "cell_type": "code",
   "execution_count": null,
   "id": "5c71f1e0",
   "metadata": {},
   "outputs": [],
   "source": []
  },
  {
   "cell_type": "markdown",
   "id": "4d526bf4",
   "metadata": {},
   "source": [
    "### Links revisados\n",
    "\n",
    "- https://datatofish.com/convert-string-to-float-dataframe/\n",
    "- https://www.w3schools.com/python/pandas/pandas_plotting.asp\n",
    "- https://www.geeksforgeeks.org/ways-to-filter-pandas-dataframe-by-column-values\n",
    "- https://www.tutorialspoint.com/numpy/numpy_histogram_using_matplotlib.htm#:~:text=NumPy%20has%20a%20numpy.,variable%20height%20corresponding%20to%20frequency.\n",
    "- https://riptutorial.com/scipy/example/31081/fitting-a-function-to-data-from-a-histogram\n",
    "- https://riptutorial.com/scipy/example/31081/fitting-a-function-to-data-from-a-histogram"
   ]
  },
  {
   "cell_type": "code",
   "execution_count": null,
   "id": "7b4b8d32",
   "metadata": {},
   "outputs": [],
   "source": [
    "# importing the modules\n",
    "import numpy as np\n",
    "import matplotlib.pyplot as plt\n",
    "\n",
    "# data to be plotted\n",
    "x = np.arange(0, 1.57, 0.04)\n",
    "y = 3*np.sin(x)*(np.cos(x))**2\n",
    "\n",
    "# plotting\n",
    "plt.title(\"Line graph\")\n",
    "plt.xlabel(\"X axis\")\n",
    "plt.ylabel(\"Y axis\")\n",
    "plt.plot(x, y, color =\"red\")\n",
    "plt.show()\n"
   ]
  }
 ],
 "metadata": {
  "kernelspec": {
   "display_name": "Python 3 (ipykernel)",
   "language": "python",
   "name": "python3"
  },
  "language_info": {
   "codemirror_mode": {
    "name": "ipython",
    "version": 3
   },
   "file_extension": ".py",
   "mimetype": "text/x-python",
   "name": "python",
   "nbconvert_exporter": "python",
   "pygments_lexer": "ipython3",
   "version": "3.9.10"
  }
 },
 "nbformat": 4,
 "nbformat_minor": 5
}
