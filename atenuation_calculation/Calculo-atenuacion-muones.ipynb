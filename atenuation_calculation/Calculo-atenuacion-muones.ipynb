{
 "cells": [
  {
   "cell_type": "code",
   "execution_count": 1,
   "id": "f8d006ac",
   "metadata": {},
   "outputs": [],
   "source": [
    "import numpy as np\n",
    "import math \n",
    "import matplotlib.pyplot as plt\n",
    "import pandas as pd\n",
    "from matplotlib.colors import LogNorm"
   ]
  },
  {
   "cell_type": "code",
   "execution_count": null,
   "id": "384c3fb5",
   "metadata": {},
   "outputs": [],
   "source": [
    "## línea de visión \n",
    "def recta(x_0, y_0, x_1,y_1,x): # todos los puntos son conocidos, la función bota un punto adelante \n",
    "    m=(y_1-y_0)/(x_1-x_0)\n",
    "    recta= y_0+m*(x-x_0)\n",
    "    \n",
    "    return recta\n",
    "\n",
    "def segmentos(array1, array2):  # primero los valores y de la curva\n",
    "    vect = []\n",
    "    index = []\n",
    "    for i in range(0,len(array1)):           \n",
    "        if (array1-array2)[i] >= 0: #la condicion. \n",
    "            vect.append(array1[i])\n",
    "            index.append(i)\n",
    "    #    else: \n",
    "     #       vect.append(0)\n",
    "      #      index.append(0)\n",
    "    return (index, vect)\n",
    "\n",
    "#### SUPER IMPORTANTE \n",
    "def indice_final(array1, array2):  # genera el index final de intersección \n",
    "    for i in range(inicio,len(array1)):           \n",
    "        if (array1-array2)[i] >= 0: #la condicion. \n",
    "            indice_final=i\n",
    "    return indice_final\n",
    "\n",
    "#funcion para calcular la distancia entre dos puntos \n",
    "# p1 y p2 son array de dos dimensiones  que tiene los puntos (x,y)\n",
    "\n",
    "def distancia(p1, p2): #la entrada     \n",
    "    resto = p2**2-p1**2\n",
    "    dist = math.sqrt(abs(resto[0])+ abs(resto[1]))  \n",
    "    return dist \n",
    "\n",
    "    "
   ]
  },
  {
   "cell_type": "code",
   "execution_count": null,
   "id": "bb688981",
   "metadata": {},
   "outputs": [],
   "source": [
    "class MakeGISObject: \n",
    "    #build all the elements and properties of the GIS object\n",
    "\n",
    "    ## línea de visión \n",
    "    def recta(self, x_0, y_0, x_1,y_1,x): # todos los puntos son conocidos, la función bota un punto adelante \n",
    "        m=(y_1-y_0)/(x_1-x_0)\n",
    "        recta= y_0+m*(x-x_0)\n",
    "\n",
    "        return recta\n",
    "\n",
    "    def segmentos(array1, array2):  # primero los valores y de la curva\n",
    "        vect = []\n",
    "        index = []\n",
    "        for i in range(0,len(array1)):           \n",
    "            if (array1-array2)[i] >= 0: #la condicion. \n",
    "                vect.append(array1[i])\n",
    "                index.append(i)\n",
    "        #    else: \n",
    "         #       vect.append(0)\n",
    "          #      index.append(0)\n",
    "        return (index, vect)\n",
    "\n",
    "    #### SUPER IMPORTANTE \n",
    "    def indice_final(array1, array2):  # genera el index final de intersección \n",
    "        for i in range(inicio,len(array1)):           \n",
    "            if (array1-array2)[i] >= 0: #la condicion. \n",
    "                indice_final=i\n",
    "        return indice_final\n",
    "\n",
    "    #funcion para calcular la distancia entre dos puntos \n",
    "    # p1 y p2 son array de dos dimensiones  que tiene los puntos (x,y)\n",
    "\n",
    "    def distancia(self, p1, p2): #la entrada     \n",
    "        resto = p2**2-p1**2\n",
    "        dist = math.sqrt(abs(resto[0])+ abs(resto[1]))  \n",
    "        return dist \n",
    "\n",
    "    \n",
    "\n",
    "\n",
    "    "
   ]
  },
  {
   "cell_type": "code",
   "execution_count": null,
   "id": "c69574c0",
   "metadata": {},
   "outputs": [],
   "source": [
    "cerro_uni = MakeGISObject()"
   ]
  },
  {
   "cell_type": "code",
   "execution_count": null,
   "id": "d8003ec0",
   "metadata": {},
   "outputs": [],
   "source": [
    "cerro_uni.recta(5,6, 7, 8, 9)"
   ]
  },
  {
   "cell_type": "markdown",
   "id": "14db2d5a",
   "metadata": {},
   "source": [
    "Luego de definir las funciones, se carga los datos del eje X. Que podrá ser valores reales de posición o índices que ordenan los valores. "
   ]
  },
  {
   "cell_type": "code",
   "execution_count": null,
   "id": "ff040e26",
   "metadata": {},
   "outputs": [],
   "source": [
    "#array con los valores de X que depende de el número de celdas que tiene la información GIS \n",
    "# el valor real debe salir de df_limpio.shape[1]\n",
    "arr_x = np.linspace(0,625,626)\n",
    "\n",
    "#array con los valores de X "
   ]
  },
  {
   "cell_type": "markdown",
   "id": "f7fadef2",
   "metadata": {},
   "source": [
    "Acá ingresa los valores  de la curva real "
   ]
  },
  {
   "cell_type": "code",
   "execution_count": null,
   "id": "9f129fb8",
   "metadata": {},
   "outputs": [],
   "source": [
    "####  Puntos de la curva en este caso es una parabola\n",
    "#vec_para = []\n",
    "\n",
    "## creacion y de parábola \n",
    "#def parabola(al, bt, gm,x): \n",
    " #   para= al - gm*(x-bt)**2\n",
    "    \n",
    "  #  return para\n",
    "\n",
    "\n",
    "#for i in range(0,len(arr_x)):           \n",
    " #   temp=parabola(100,20,0.5,i)\n",
    "  #  vec_para.append(temp)\n",
    "#para_vec = np.asarray(vec_para)\n",
    "\n"
   ]
  },
  {
   "cell_type": "markdown",
   "id": "4aa174ce",
   "metadata": {},
   "source": [
    "## Cargar los datos del raster DEM\n"
   ]
  },
  {
   "cell_type": "code",
   "execution_count": null,
   "id": "abb727e2",
   "metadata": {},
   "outputs": [],
   "source": [
    "df = pd.read_csv('./rastert_dem_uni1-clean.txt', sep =\" \", header=None)\n",
    "df_filtrado = df.fillna(0)\n",
    "df_limpio=df.drop(columns=626)#eliminar la última columna \n",
    "#df_limpio.head()\n",
    "\n",
    "\n",
    "print(\"Dimensiones del dataframe:\",df.shape)\n",
    "print(\"Número de filas (registros):\",df.shape[0])\n"
   ]
  },
  {
   "cell_type": "code",
   "execution_count": null,
   "id": "3c25f83d",
   "metadata": {},
   "outputs": [],
   "source": [
    "#print(\"Número de columnas:\",df_limpio.shape[1])\n",
    "print(\"Número de columnas:\",df_limpio.shape[1])\n",
    "type(df_limpio.shape[1])"
   ]
  },
  {
   "cell_type": "code",
   "execution_count": null,
   "id": "8420ff90",
   "metadata": {},
   "outputs": [],
   "source": [
    "#np_array = df_limpio.to_numpy(df_limpio.iloc[100])\n",
    "# 210 elige la fila que quiero analizar \n",
    "np_array = df_limpio.iloc[210].to_numpy()\n",
    "plt.plot(np_array)\n",
    "print(len(np_array))\n",
    "type(np_array)"
   ]
  },
  {
   "cell_type": "code",
   "execution_count": null,
   "id": "7649d1e3",
   "metadata": {},
   "outputs": [],
   "source": [
    "#### IMPORTANTE \n",
    "inicio = 380 # indice donde quiero empezar a analizar en el eje X \n",
    "\n",
    "punto_inicio=[50,120]# punto desde donde se coloca el observador \n",
    "\n",
    "####  Puntos de la curva \n",
    "# iloc 110 elige la fila que quiero analizar \n",
    "\n",
    "np_array = df_limpio.iloc[110].to_numpy()\n",
    "\n",
    "vec_recta= [] \n",
    "\n",
    "#esto genera la recta \n",
    "for j in range(0,len(arr_x)):        \n",
    "    tm=recta(punto_inicio[0],punto_inicio[1],arr_x[inicio], np_array[inicio], arr_x[j]) \n",
    "    vec_recta.append(tm)\n",
    "    recta_vec = np.asarray(vec_recta)  \n",
    "\n",
    "plt.ylim([70, 250]) # limita el rango en el que se muestra el eje Y\n",
    "plt.plot(recta_vec) \n",
    "plt.plot(np_array)\n",
    "\n"
   ]
  },
  {
   "cell_type": "code",
   "execution_count": null,
   "id": "48e5f26e",
   "metadata": {},
   "outputs": [],
   "source": [
    "len(np_array)\n",
    "print(arr_x[inicio])\n",
    "print(np_array[inicio])"
   ]
  },
  {
   "cell_type": "code",
   "execution_count": null,
   "id": "a7f8705e",
   "metadata": {},
   "outputs": [],
   "source": [
    "#cálculo de la distancia \n",
    " \n",
    "\n",
    "\n",
    "\n",
    "lf= indice_final(np_array, recta_vec) # indice final de intersección  # PUNTO 2 P2\n",
    "\n",
    "int_i= np.asarray([inicio,np_array[inicio]])#convertir los puntos iniciales en el  array  PUNTO DE INICIO P1\n",
    "int_f= np.asarray([lf,np_array[lf]])#convertir los puntos finales en el  array \n",
    "u = distancia(int_i, int_f) #cacula la distancia \n",
    "print(u)\n"
   ]
  },
  {
   "cell_type": "markdown",
   "id": "48f76cd9",
   "metadata": {},
   "source": [
    "## Cargar los datos del flujo de muones simulados"
   ]
  },
  {
   "cell_type": "markdown",
   "id": "3be06021",
   "metadata": {},
   "source": [
    "### Distribución de muones atmosféricos en la superficie \n",
    "\n",
    "- 12 column format is:\n",
    "- CorsikaId px py pz x y z shower_id prm_id prm_energy prm_theta prm_phi"
   ]
  },
  {
   "cell_type": "code",
   "execution_count": 2,
   "id": "460007ab",
   "metadata": {},
   "outputs": [],
   "source": [
    "datacorsikashw = pd.read_csv('/home/justus/Documentos/cosmicraysuni/CORSIKA_production/c_data/salida_d_2.shw', sep =\" \", header=None, skiprows= 6)\n",
    "\n",
    "\n",
    "#shower = datacorsikashw.fillna(0)\n",
    "#df_limpio=df.drop(columns=626)#eliminar la última columna \n",
    "#df_limpio.head() "
   ]
  },
  {
   "cell_type": "code",
   "execution_count": 3,
   "id": "03d55f89",
   "metadata": {},
   "outputs": [
    {
     "data": {
      "text/html": [
       "<div>\n",
       "<style scoped>\n",
       "    .dataframe tbody tr th:only-of-type {\n",
       "        vertical-align: middle;\n",
       "    }\n",
       "\n",
       "    .dataframe tbody tr th {\n",
       "        vertical-align: top;\n",
       "    }\n",
       "\n",
       "    .dataframe thead th {\n",
       "        text-align: right;\n",
       "    }\n",
       "</style>\n",
       "<table border=\"1\" class=\"dataframe\">\n",
       "  <thead>\n",
       "    <tr style=\"text-align: right;\">\n",
       "      <th></th>\n",
       "      <th>0</th>\n",
       "      <th>1</th>\n",
       "      <th>2</th>\n",
       "      <th>3</th>\n",
       "      <th>4</th>\n",
       "      <th>5</th>\n",
       "      <th>6</th>\n",
       "      <th>7</th>\n",
       "      <th>8</th>\n",
       "      <th>9</th>\n",
       "      <th>10</th>\n",
       "      <th>11</th>\n",
       "    </tr>\n",
       "  </thead>\n",
       "  <tbody>\n",
       "    <tr>\n",
       "      <th>1</th>\n",
       "      <td>1</td>\n",
       "      <td>-0.000240</td>\n",
       "      <td>-0.000418</td>\n",
       "      <td>0.000522</td>\n",
       "      <td>-51.3171</td>\n",
       "      <td>-2243.32</td>\n",
       "      <td>955.605</td>\n",
       "      <td>1</td>\n",
       "      <td>703</td>\n",
       "      <td>173.277</td>\n",
       "      <td>56.649</td>\n",
       "      <td>-40.194</td>\n",
       "    </tr>\n",
       "    <tr>\n",
       "      <th>2</th>\n",
       "      <td>1</td>\n",
       "      <td>0.001533</td>\n",
       "      <td>-0.001168</td>\n",
       "      <td>0.001095</td>\n",
       "      <td>68.3857</td>\n",
       "      <td>-2251.72</td>\n",
       "      <td>955.602</td>\n",
       "      <td>1</td>\n",
       "      <td>703</td>\n",
       "      <td>173.277</td>\n",
       "      <td>56.649</td>\n",
       "      <td>-40.194</td>\n",
       "    </tr>\n",
       "    <tr>\n",
       "      <th>3</th>\n",
       "      <td>1</td>\n",
       "      <td>0.001246</td>\n",
       "      <td>-0.000890</td>\n",
       "      <td>0.000890</td>\n",
       "      <td>68.3886</td>\n",
       "      <td>-2246.44</td>\n",
       "      <td>955.604</td>\n",
       "      <td>1</td>\n",
       "      <td>703</td>\n",
       "      <td>173.277</td>\n",
       "      <td>56.649</td>\n",
       "      <td>-40.194</td>\n",
       "    </tr>\n",
       "    <tr>\n",
       "      <th>4</th>\n",
       "      <td>1</td>\n",
       "      <td>0.021142</td>\n",
       "      <td>-0.018017</td>\n",
       "      <td>0.017502</td>\n",
       "      <td>55.9525</td>\n",
       "      <td>-2247.98</td>\n",
       "      <td>955.603</td>\n",
       "      <td>1</td>\n",
       "      <td>703</td>\n",
       "      <td>173.277</td>\n",
       "      <td>56.649</td>\n",
       "      <td>-40.194</td>\n",
       "    </tr>\n",
       "    <tr>\n",
       "      <th>5</th>\n",
       "      <td>1</td>\n",
       "      <td>0.000648</td>\n",
       "      <td>-0.000565</td>\n",
       "      <td>0.000535</td>\n",
       "      <td>54.4664</td>\n",
       "      <td>-2246.86</td>\n",
       "      <td>955.604</td>\n",
       "      <td>1</td>\n",
       "      <td>703</td>\n",
       "      <td>173.277</td>\n",
       "      <td>56.649</td>\n",
       "      <td>-40.194</td>\n",
       "    </tr>\n",
       "  </tbody>\n",
       "</table>\n",
       "</div>"
      ],
      "text/plain": [
       "   0         1         2         3        4        5        6   7    8   \\\n",
       "1   1 -0.000240 -0.000418  0.000522 -51.3171 -2243.32  955.605   1  703   \n",
       "2   1  0.001533 -0.001168  0.001095  68.3857 -2251.72  955.602   1  703   \n",
       "3   1  0.001246 -0.000890  0.000890  68.3886 -2246.44  955.604   1  703   \n",
       "4   1  0.021142 -0.018017  0.017502  55.9525 -2247.98  955.603   1  703   \n",
       "5   1  0.000648 -0.000565  0.000535  54.4664 -2246.86  955.604   1  703   \n",
       "\n",
       "        9       10      11  \n",
       "1  173.277  56.649 -40.194  \n",
       "2  173.277  56.649 -40.194  \n",
       "3  173.277  56.649 -40.194  \n",
       "4  173.277  56.649 -40.194  \n",
       "5  173.277  56.649 -40.194  "
      ]
     },
     "execution_count": 3,
     "metadata": {},
     "output_type": "execute_result"
    }
   ],
   "source": [
    "datacorsikashw=datacorsikashw.drop([0])#eliminar la primera fila \n",
    "\n",
    "datacorsikashw.head() "
   ]
  },
  {
   "cell_type": "code",
   "execution_count": 4,
   "id": "95dda32e",
   "metadata": {},
   "outputs": [
    {
     "name": "stdout",
     "output_type": "stream",
     "text": [
      "352552\n"
     ]
    }
   ],
   "source": [
    "#print(datacorsikashw.dtypes)  \n",
    "muonflux = datacorsikashw[(datacorsikashw[0]== 5) | (datacorsikashw[0]== 6)  ] \n",
    "\n",
    "points = len(muonflux)\n",
    "print(points)\n"
   ]
  },
  {
   "cell_type": "code",
   "execution_count": 5,
   "id": "01f3c392",
   "metadata": {},
   "outputs": [
    {
     "data": {
      "text/html": [
       "<div>\n",
       "<style scoped>\n",
       "    .dataframe tbody tr th:only-of-type {\n",
       "        vertical-align: middle;\n",
       "    }\n",
       "\n",
       "    .dataframe tbody tr th {\n",
       "        vertical-align: top;\n",
       "    }\n",
       "\n",
       "    .dataframe thead th {\n",
       "        text-align: right;\n",
       "    }\n",
       "</style>\n",
       "<table border=\"1\" class=\"dataframe\">\n",
       "  <thead>\n",
       "    <tr style=\"text-align: right;\">\n",
       "      <th></th>\n",
       "      <th>0</th>\n",
       "      <th>1</th>\n",
       "      <th>2</th>\n",
       "      <th>3</th>\n",
       "      <th>4</th>\n",
       "      <th>5</th>\n",
       "      <th>6</th>\n",
       "      <th>7</th>\n",
       "      <th>8</th>\n",
       "      <th>9</th>\n",
       "      <th>10</th>\n",
       "      <th>11</th>\n",
       "    </tr>\n",
       "  </thead>\n",
       "  <tbody>\n",
       "    <tr>\n",
       "      <th>14</th>\n",
       "      <td>6</td>\n",
       "      <td>0.491643</td>\n",
       "      <td>1.449740</td>\n",
       "      <td>1.35508</td>\n",
       "      <td>-2584.330</td>\n",
       "      <td>-1378.260</td>\n",
       "      <td>955.327</td>\n",
       "      <td>2</td>\n",
       "      <td>703</td>\n",
       "      <td>153.0950</td>\n",
       "      <td>46.164</td>\n",
       "      <td>62.932</td>\n",
       "    </tr>\n",
       "    <tr>\n",
       "      <th>15</th>\n",
       "      <td>5</td>\n",
       "      <td>0.842015</td>\n",
       "      <td>-0.738108</td>\n",
       "      <td>1.49945</td>\n",
       "      <td>785.195</td>\n",
       "      <td>-3815.400</td>\n",
       "      <td>954.809</td>\n",
       "      <td>3</td>\n",
       "      <td>703</td>\n",
       "      <td>76.5172</td>\n",
       "      <td>32.468</td>\n",
       "      <td>-35.979</td>\n",
       "    </tr>\n",
       "    <tr>\n",
       "      <th>17</th>\n",
       "      <td>5</td>\n",
       "      <td>1.609810</td>\n",
       "      <td>-0.522197</td>\n",
       "      <td>2.36266</td>\n",
       "      <td>1318.310</td>\n",
       "      <td>1677.170</td>\n",
       "      <td>955.643</td>\n",
       "      <td>5</td>\n",
       "      <td>703</td>\n",
       "      <td>651.8530</td>\n",
       "      <td>36.313</td>\n",
       "      <td>-29.276</td>\n",
       "    </tr>\n",
       "    <tr>\n",
       "      <th>18</th>\n",
       "      <td>6</td>\n",
       "      <td>0.953184</td>\n",
       "      <td>-0.533048</td>\n",
       "      <td>1.96415</td>\n",
       "      <td>-1928.920</td>\n",
       "      <td>489.125</td>\n",
       "      <td>955.689</td>\n",
       "      <td>5</td>\n",
       "      <td>703</td>\n",
       "      <td>651.8530</td>\n",
       "      <td>36.313</td>\n",
       "      <td>-29.276</td>\n",
       "    </tr>\n",
       "    <tr>\n",
       "      <th>27</th>\n",
       "      <td>5</td>\n",
       "      <td>0.585618</td>\n",
       "      <td>-0.512812</td>\n",
       "      <td>1.16330</td>\n",
       "      <td>-1824.260</td>\n",
       "      <td>-914.156</td>\n",
       "      <td>955.673</td>\n",
       "      <td>5</td>\n",
       "      <td>703</td>\n",
       "      <td>651.8530</td>\n",
       "      <td>36.313</td>\n",
       "      <td>-29.276</td>\n",
       "    </tr>\n",
       "  </tbody>\n",
       "</table>\n",
       "</div>"
      ],
      "text/plain": [
       "    0         1         2        3         4         5        6   7    8   \\\n",
       "14   6  0.491643  1.449740  1.35508 -2584.330 -1378.260  955.327   2  703   \n",
       "15   5  0.842015 -0.738108  1.49945   785.195 -3815.400  954.809   3  703   \n",
       "17   5  1.609810 -0.522197  2.36266  1318.310  1677.170  955.643   5  703   \n",
       "18   6  0.953184 -0.533048  1.96415 -1928.920   489.125  955.689   5  703   \n",
       "27   5  0.585618 -0.512812  1.16330 -1824.260  -914.156  955.673   5  703   \n",
       "\n",
       "          9       10      11  \n",
       "14  153.0950  46.164  62.932  \n",
       "15   76.5172  32.468 -35.979  \n",
       "17  651.8530  36.313 -29.276  \n",
       "18  651.8530  36.313 -29.276  \n",
       "27  651.8530  36.313 -29.276  "
      ]
     },
     "execution_count": 5,
     "metadata": {},
     "output_type": "execute_result"
    }
   ],
   "source": [
    "muonflux.head()"
   ]
  },
  {
   "cell_type": "code",
   "execution_count": 6,
   "id": "cf199b69",
   "metadata": {},
   "outputs": [
    {
     "name": "stdout",
     "output_type": "stream",
     "text": [
      "[0.491643 1.44974  1.35508 ]\n"
     ]
    }
   ],
   "source": [
    "pxpypz=muonflux.iloc[:,[1,2,3]].to_numpy() #seleccion de las colummnas de muones + y - \n",
    "type(pxpypz)\n",
    "print(pxpypz[0])"
   ]
  },
  {
   "cell_type": "code",
   "execution_count": 7,
   "id": "9248ef39",
   "metadata": {},
   "outputs": [],
   "source": [
    "muonp2 = []\n",
    "muoncos = []\n",
    "muontheta = []\n",
    "for i in range(0, points, 1):\n",
    "    p2 = pxpypz[i][0]*pxpypz[i][0]+pxpypz[i][1]*pxpypz[i][1]+pxpypz[i][2]*pxpypz[i][2]\n",
    "    cos = pxpypz[i][2]/(np.sqrt(p2))\n",
    "    arcos = (np.arccos(cos))*360/(2*np.pi)\n",
    "    muonp2.append(p2)\n",
    "    muoncos.append(cos)\n",
    "    muontheta.append(arcos)\n"
   ]
  },
  {
   "cell_type": "code",
   "execution_count": null,
   "id": "fa47e339",
   "metadata": {},
   "outputs": [],
   "source": [
    " \n",
    "for i in range(0,10,1):\n",
    "    print(muontheta[i])"
   ]
  },
  {
   "cell_type": "code",
   "execution_count": null,
   "id": "2798dfef",
   "metadata": {},
   "outputs": [],
   "source": [
    " \n",
    "for i in range(0,10,1):\n",
    "    print(muoncos[i])"
   ]
  },
  {
   "cell_type": "code",
   "execution_count": 20,
   "id": "527ef5d0",
   "metadata": {},
   "outputs": [
    {
     "data": {
      "image/png": "[encoded data removed]",
      "text/plain": [
       "<Figure size 432x288 with 1 Axes>"
      ]
     },
     "metadata": {
      "needs_background": "light"
     },
     "output_type": "display_data"
    }
   ],
   "source": [
    "#plt.hist(muontheta, bins = [0,10, 20, 30, 40, 50, 60, 70, 80, 90]) \n",
    "num_bins = 100\n",
    "plt.hist(muontheta, num_bins) \n",
    "\n",
    "plt.title(\"histogram\") \n",
    "plt.show()"
   ]
  },
  {
   "cell_type": "code",
   "execution_count": 18,
   "id": "5f4051a3",
   "metadata": {},
   "outputs": [
    {
     "name": "stdout",
     "output_type": "stream",
     "text": [
      "params:  [-0.08139835  0.86364809 12.13622291]\n",
      "covariance:  [[ 2.38376129e-04 -3.81401808e-03  9.53504521e-03]\n",
      " [-3.81401808e-03  6.55534359e-02 -1.88793896e-01]\n",
      " [ 9.53504521e-03 -1.88793896e-01  7.79966703e-01]]\n"
     ]
    },
    {
     "data": {
      "image/png": "[encoded data removed]",
      "text/plain": [
       "<Figure size 432x288 with 1 Axes>"
      ]
     },
     "metadata": {
      "needs_background": "light"
     },
     "output_type": "display_data"
    }
   ],
   "source": [
    "from numpy import array, exp\n",
    "from scipy.optimize import curve_fit\n",
    "import matplotlib.pyplot as plt\n",
    "\n",
    "y = array([12, 11, 13, 15, 16, 16, 15, 14, 15, 12, 11, 12, 8, 10, 9, 7, 6])\n",
    "x = array(range(len(y)))\n",
    "\n",
    "def func1(x, a, b, c):\n",
    "    return a*x**2+b*x+c\n",
    "\n",
    "def func2(x, a, b, c):\n",
    "    return a*x**3+b*x+c\n",
    "\n",
    "def func3(x, a, b, c):\n",
    "    return a*x**3+b*x**2+c\n",
    "\n",
    "def func4(x, a, b, c):\n",
    "    return a*exp(b*x)+c\n",
    "\n",
    "params, covs = curve_fit(func1, x, y)\n",
    "print(\"params: \", params)\n",
    "print(\"covariance: \", covs)\n",
    "\n",
    "params, _ = curve_fit(func1, x, y)\n",
    "a, b, c = params[0], params[1], params[2]\n",
    "yfit1 = a*x**2+b*x+c\n",
    "\n",
    "params, _  = curve_fit(func2, x, y)\n",
    "a, b, c = params[0], params[1], params[2]\n",
    "yfit2 = a*x**3+b*x+c\n",
    "\n",
    "params, _  = curve_fit(func3, x, y)\n",
    "a, b, c = params[0], params[1], params[2]\n",
    "yfit3 = a*x**3+b*x**2+c\n",
    "\n",
    "params, _  = curve_fit(func4, x, y)\n",
    "a, b, c = params[0], params[1], params[2]\n",
    "yfit4 = a*exp(x*b)+c\n",
    "\n",
    "plt.plot(x, y, 'bo', label=\"y-original\")\n",
    "plt.plot(x, yfit1, label=\"y=a*x^2+b*x+c\")\n",
    "plt.plot(x, yfit2, label=\"y=a*x^3+b*x+c\")\n",
    "plt.plot(x, yfit3, label=\"y=a*x^3+b*x^2*c\")\n",
    "plt.plot(x, yfit4, label=\"y=a*exp(b*x)+c\")\n",
    "plt.xlabel('x')\n",
    "plt.ylabel('y')\n",
    "plt.legend(loc='best', fancybox=True, shadow=True)\n",
    "plt.grid(True)\n",
    "plt.show() \n"
   ]
  },
  {
   "cell_type": "code",
   "execution_count": null,
   "id": "3b91cfca",
   "metadata": {},
   "outputs": [
    {
     "name": "stderr",
     "output_type": "stream",
     "text": [
      "/home/justus/anaconda3/envs/gammapy-0.19/lib/python3.9/site-packages/scipy/optimize/minpack.py:833: OptimizeWarning: Covariance of the parameters could not be estimated\n",
      "  warnings.warn('Covariance of the parameters could not be estimated',\n"
     ]
    },
    {
     "name": "stdout",
     "output_type": "stream",
     "text": [
      "[1.88827207 1.        ]\n"
     ]
    }
   ],
   "source": [
    "from scipy.optimize import curve_fit\n",
    "\n",
    "# 2.) Define fit function.\n",
    "def fit_function(x, I, n):\n",
    "    return (I)*np.cos(x)*np.sin(x)\n",
    "\n",
    "\n",
    "# 3.) Generate exponential and gaussian data and histograms.\n",
    "#data = np.random.exponential(scale=2.0, size=100)\n",
    "#data2 = np.random.normal(loc=3.0, scale=0.3, size=100)\n",
    "bins = np.linspace(0, 90, 352552)\n",
    "data_entries_1, bins_1 = np.histogram(data, bins=bins)\n",
    "#data_entries_2, bins_2 = np.histogram(data2, bins=bins)\n",
    "\n",
    "# 4.) Add histograms of exponential and gaussian data.\n",
    "#data_entries = data_entries_1 + data_entries_2\n",
    "#binscenters = np.array([0.5 * (bins[i] + bins[i+1]) for i in range(len(bins)-1)])\n",
    "\n",
    "# 5.) Fit the function to the histogram data.\n",
    "popt, pcov = curve_fit(fit_function, bins_1, muontheta)\n",
    "print(popt)\n",
    "\n",
    "plt.hist(muontheta,bins,  label=\"y-original\")\n",
    "#plt.plot(bins, fit_function, label=\"y=a*x^2+b*x+c\")\n",
    "\n",
    "plt.xlabel('x')\n",
    "plt.ylabel('y')\n",
    "plt.legend(loc='best', fancybox=True, shadow=True)\n",
    "plt.grid(True)\n",
    "plt.show() "
   ]
  },
  {
   "cell_type": "code",
   "execution_count": 14,
   "id": "cd0c5c0f",
   "metadata": {},
   "outputs": [
    {
     "ename": "NameError",
     "evalue": "name 'binscenters' is not defined",
     "output_type": "error",
     "traceback": [
      "\u001b[0;31m---------------------------------------------------------------------------\u001b[0m",
      "\u001b[0;31mNameError\u001b[0m                                 Traceback (most recent call last)",
      "\u001b[0;32m/tmp/ipykernel_15261/3660077785.py\u001b[0m in \u001b[0;36m<module>\u001b[0;34m\u001b[0m\n\u001b[1;32m      4\u001b[0m \u001b[0;34m\u001b[0m\u001b[0m\n\u001b[1;32m      5\u001b[0m \u001b[0;31m# Plot the histogram and the fitted function.\u001b[0m\u001b[0;34m\u001b[0m\u001b[0;34m\u001b[0m\u001b[0m\n\u001b[0;32m----> 6\u001b[0;31m \u001b[0mplt\u001b[0m\u001b[0;34m.\u001b[0m\u001b[0mbar\u001b[0m\u001b[0;34m(\u001b[0m\u001b[0mbinscenters\u001b[0m\u001b[0;34m,\u001b[0m \u001b[0mdata_entries\u001b[0m\u001b[0;34m,\u001b[0m \u001b[0mwidth\u001b[0m\u001b[0;34m=\u001b[0m\u001b[0mbins\u001b[0m\u001b[0;34m[\u001b[0m\u001b[0;36m1\u001b[0m\u001b[0;34m]\u001b[0m \u001b[0;34m-\u001b[0m \u001b[0mbins\u001b[0m\u001b[0;34m[\u001b[0m\u001b[0;36m0\u001b[0m\u001b[0;34m]\u001b[0m\u001b[0;34m,\u001b[0m \u001b[0mcolor\u001b[0m\u001b[0;34m=\u001b[0m\u001b[0;34m'navy'\u001b[0m\u001b[0;34m,\u001b[0m \u001b[0mlabel\u001b[0m\u001b[0;34m=\u001b[0m\u001b[0;34mr'Histogram entries'\u001b[0m\u001b[0;34m)\u001b[0m\u001b[0;34m\u001b[0m\u001b[0;34m\u001b[0m\u001b[0m\n\u001b[0m\u001b[1;32m      7\u001b[0m \u001b[0mplt\u001b[0m\u001b[0;34m.\u001b[0m\u001b[0mplot\u001b[0m\u001b[0;34m(\u001b[0m\u001b[0mxspace\u001b[0m\u001b[0;34m,\u001b[0m \u001b[0mfit_function\u001b[0m\u001b[0;34m(\u001b[0m\u001b[0mxspace\u001b[0m\u001b[0;34m,\u001b[0m \u001b[0;34m*\u001b[0m\u001b[0mpopt\u001b[0m\u001b[0;34m)\u001b[0m\u001b[0;34m,\u001b[0m \u001b[0mcolor\u001b[0m\u001b[0;34m=\u001b[0m\u001b[0;34m'darkorange'\u001b[0m\u001b[0;34m,\u001b[0m \u001b[0mlinewidth\u001b[0m\u001b[0;34m=\u001b[0m\u001b[0;36m2.5\u001b[0m\u001b[0;34m,\u001b[0m \u001b[0mlabel\u001b[0m\u001b[0;34m=\u001b[0m\u001b[0;34mr'Fitted function'\u001b[0m\u001b[0;34m)\u001b[0m\u001b[0;34m\u001b[0m\u001b[0;34m\u001b[0m\u001b[0m\n\u001b[1;32m      8\u001b[0m \u001b[0;34m\u001b[0m\u001b[0m\n",
      "\u001b[0;31mNameError\u001b[0m: name 'binscenters' is not defined"
     ]
    }
   ],
   "source": [
    "\n",
    "# 6.)\n",
    "# Generate enough x values to make the curves look smooth.\n",
    "xspace = np.linspace(0, 6, 100000)\n",
    "\n",
    "# Plot the histogram and the fitted function.\n",
    "plt.bar(binscenters, data_entries, width=bins[1] - bins[0], color='navy', label=r'Histogram entries')\n",
    "plt.plot(xspace, fit_function(xspace, *popt), color='darkorange', linewidth=2.5, label=r'Fitted function')\n",
    "\n",
    "# Make the plot nicer.\n",
    "plt.xlim(0,6)\n",
    "plt.xlabel(r'x axis')\n",
    "plt.ylabel(r'Number of entries')\n",
    "plt.title(r'Exponential decay with gaussian peak')\n",
    "plt.legend(loc='best')\n",
    "plt.show()\n",
    "plt.clf()"
   ]
  },
  {
   "cell_type": "code",
   "execution_count": null,
   "id": "5324ca3e",
   "metadata": {},
   "outputs": [],
   "source": [
    "import numpy as np\n",
    "\n",
    "import matplotlib.pyplot as plt\n",
    "from scipy.optimize import curve_fit\n",
    "\n",
    "# 2.) Define fit function.\n",
    "def fit_function(x, A, beta, B, mu, sigma):\n",
    "    return (A * np.exp(-x/beta) + B * np.exp(-1.0 * (x - mu)**2 / (2 * sigma**2)))\n",
    "\n",
    "# 3.) Generate exponential and gaussian data and histograms.\n",
    "data = np.random.exponential(scale=2.0, size=100000)\n",
    "data2 = np.random.normal(loc=3.0, scale=0.3, size=15000)\n",
    "bins = np.linspace(0, 6, 61)\n",
    "data_entries_1, bins_1 = np.histogram(data, bins=bins)\n",
    "data_entries_2, bins_2 = np.histogram(data2, bins=bins)\n",
    "\n",
    "# 4.) Add histograms of exponential and gaussian data.\n",
    "data_entries = data_entries_1 + data_entries_2\n",
    "binscenters = np.array([0.5 * (bins[i] + bins[i+1]) for i in range(len(bins)-1)])\n",
    "\n",
    "# 5.) Fit the function to the histogram data.\n",
    "popt, pcov = curve_fit(fit_function, xdata=binscenters, ydata=data_entries, p0=[20000, 2.0, 2000, 3.0, 0.3])\n",
    "print(popt)\n",
    "\n",
    "# 6.)\n",
    "# Generate enough x values to make the curves look smooth.\n",
    "xspace = np.linspace(0, 6, 100000)\n",
    "\n",
    "# Plot the histogram and the fitted function.\n",
    "plt.bar(binscenters, data_entries, width=bins[1] - bins[0], color='navy', label=r'Histogram entries')\n",
    "plt.plot(xspace, fit_function(xspace, *popt), color='darkorange', linewidth=2.5, label=r'Fitted function')\n",
    "\n",
    "# Make the plot nicer.\n",
    "plt.xlim(0,6)\n",
    "plt.xlabel(r'x axis')\n",
    "plt.ylabel(r'Number of entries')\n",
    "plt.title(r'Exponential decay with gaussian peak')\n",
    "plt.legend(loc='best')\n",
    "plt.show()\n",
    "plt.clf()"
   ]
  },
  {
   "cell_type": "markdown",
   "id": "bdf90b8b",
   "metadata": {},
   "source": [
    "### Flujo de muones atmosféricos en la superficie"
   ]
  },
  {
   "cell_type": "code",
   "execution_count": null,
   "id": "39d0f097",
   "metadata": {},
   "outputs": [],
   "source": [
    "datacorsikahst = pd.read_csv('/home/justus/Documentos/cosmicraysuni/CORSIKA_production/c_data/salida.hst', sep =\" \", header=None, skiprows= 5)\n",
    "showerhst=datacorsikahst.drop([157, 158,159, 160, 161, 162])#eliminar la última columna \n",
    "showerhst=showerhst.drop(columns=14)#eliminar la última columna \n",
    " \n",
    "showerhst"
   ]
  },
  {
   "cell_type": "code",
   "execution_count": null,
   "id": "9088d125",
   "metadata": {},
   "outputs": [],
   "source": [
    "muonshower=showerhst.drop([0])#eliminar la primera fila \n",
    "muonshower[0] = muonshower[0].astype(float) \n",
    "muonshower[4] = muonshower[4].astype(float) \n",
    "muonshower[5] = muonshower[5].astype(float) \n",
    "muonshower[13] = muonshower[13].astype(float) \n",
    " "
   ]
  },
  {
   "cell_type": "code",
   "execution_count": null,
   "id": "33908bb4",
   "metadata": {},
   "outputs": [],
   "source": [
    " \n",
    "\n",
    "# we make a plot of the results for each offset\n",
    "fig, ax = plt.subplots()\n",
    "colors = [\"crimson\", \"dodgerblue\"]\n",
    "    \n",
    "\n",
    "muonshower.plot(ax=ax, kind = 'scatter', x=0, y=5, color = \"green\", label=\"muon+\")\n",
    "muonshower.plot(ax=ax, kind = 'scatter', x=0, y=4, color=\"red\", label=\"muon-\")\n",
    "muonshower.plot(ax=ax, kind = 'scatter', x=0, y=13, color=\"blue\", label=\"total\")\n",
    "\n",
    "plt.xlabel(\"Energy (GeV)\")\n",
    "plt.ylabel(\"Flux\")\n",
    "plt.legend()\n",
    "        \n",
    "        \n",
    "plt.xscale(\"log\")\n",
    "plt.yscale(\"log\")\n",
    "plt.show()"
   ]
  },
  {
   "cell_type": "markdown",
   "id": "b501d670",
   "metadata": {},
   "source": [
    "#### Convertir en numpy un conjunto de datos"
   ]
  },
  {
   "cell_type": "code",
   "execution_count": null,
   "id": "989cf81c",
   "metadata": {},
   "outputs": [],
   "source": [
    "\n",
    "\n",
    "#energymuon=muonshower.iloc[:,[0,4,5,13]].to_numpy() #seleccion de las colummnas de muones + y - \n"
   ]
  },
  {
   "cell_type": "markdown",
   "id": "4d526bf4",
   "metadata": {},
   "source": [
    "### Links revisados\n",
    "\n",
    "- https://datatofish.com/convert-string-to-float-dataframe/\n",
    "- https://www.w3schools.com/python/pandas/pandas_plotting.asp\n",
    "- https://www.geeksforgeeks.org/ways-to-filter-pandas-dataframe-by-column-values\n",
    "- https://www.tutorialspoint.com/numpy/numpy_histogram_using_matplotlib.htm#:~:text=NumPy%20has%20a%20numpy.,variable%20height%20corresponding%20to%20frequency.\n",
    "- https://riptutorial.com/scipy/example/31081/fitting-a-function-to-data-from-a-histogram\n",
    "- https://riptutorial.com/scipy/example/31081/fitting-a-function-to-data-from-a-histogram"
   ]
  }
 ],
 "metadata": {
  "kernelspec": {
   "display_name": "Python 3 (ipykernel)",
   "language": "python",
   "name": "python3"
  },
  "language_info": {
   "codemirror_mode": {
    "name": "ipython",
    "version": 3
   },
   "file_extension": ".py",
   "mimetype": "text/x-python",
   "name": "python",
   "nbconvert_exporter": "python",
   "pygments_lexer": "ipython3",
   "version": "3.9.10"
  }
 },
 "nbformat": 4,
 "nbformat_minor": 5
}
