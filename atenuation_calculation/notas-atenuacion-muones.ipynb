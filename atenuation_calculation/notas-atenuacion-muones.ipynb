{
 "cells": [
  {
   "cell_type": "code",
   "execution_count": 4,
   "id": "f8d006ac",
   "metadata": {},
   "outputs": [],
   "source": [
    "import numpy as np\n",
    "import math \n",
    "import matplotlib.pyplot as plt\n",
    "import pandas as pd"
   ]
  },
  {
   "cell_type": "code",
   "execution_count": 14,
   "id": "384c3fb5",
   "metadata": {},
   "outputs": [],
   "source": [
    "## línea de visión \n",
    "def recta(x_0, y_0, x_1,y_1,x): # todos los puntos son conocidos, la función bota un punto adelante \n",
    "    m=(y_1-y_0)/(x_1-x_0)\n",
    "    recta= y_0+m*(x-x_0)\n",
    "    \n",
    "    return recta\n",
    "\n",
    "def segmentos(array1, array2):  # primero los valores y de la curva\n",
    "    vect = []\n",
    "    index = []\n",
    "    for i in range(0,len(array1)):           \n",
    "        if (array1-array2)[i] >= 0: #la condicion. \n",
    "            vect.append(array1[i])\n",
    "            index.append(i)\n",
    "    #    else: \n",
    "     #       vect.append(0)\n",
    "      #      index.append(0)\n",
    "    return (index, vect)\n",
    "\n",
    "#### SUPER IMPORTANTE \n",
    "def indice_final(array1, array2):  # genera el index final de intersección \n",
    "    for i in range(inicio,len(array1)):           \n",
    "        if (array1-array2)[i] >= 0: #la condicion. \n",
    "            indice_final=i\n",
    "    return indice_final\n",
    "\n",
    "#funcion para calcular la distancia entre dos puntos \n",
    "# p1 y p2 son array de dos dimensiones  que tiene los puntos (x,y)\n",
    "\n",
    "def distancia(p1, p2): #la entrada     \n",
    "    resto = p2**2-p1**2\n",
    "    dist = math.sqrt(abs(resto[0])+ abs(resto[1]))  \n",
    "    return dist \n",
    "\n",
    "    "
   ]
  },
  {
   "cell_type": "raw",
   "id": "8ca97d5c",
   "metadata": {},
   "source": [
    "Luego de definir las funciones, se carga los datos del eje X. Que podrá ser valores reales de posición o índices que ordenan los valores. "
   ]
  },
  {
   "cell_type": "code",
   "execution_count": 12,
   "id": "ff040e26",
   "metadata": {},
   "outputs": [],
   "source": [
    "#array con los valores de X que depende de el número de celdas que tiene la información GIS \n",
    "# el valor real debe salir de df_limpio.shape[1]\n",
    "arr_x = np.linspace(0,625,626)\n",
    "\n",
    "#array con los valores de X "
   ]
  },
  {
   "cell_type": "markdown",
   "id": "f7fadef2",
   "metadata": {},
   "source": [
    "Acá ingresa los valores  de la curva real "
   ]
  },
  {
   "cell_type": "code",
   "execution_count": null,
   "id": "9f129fb8",
   "metadata": {},
   "outputs": [],
   "source": [
    "####  Puntos de la curva en este caso es una parabola\n",
    "#vec_para = []\n",
    "\n",
    "## creacion y de parábola \n",
    "#def parabola(al, bt, gm,x): \n",
    " #   para= al - gm*(x-bt)**2\n",
    "    \n",
    "  #  return para\n",
    "\n",
    "\n",
    "#for i in range(0,len(arr_x)):           \n",
    " #   temp=parabola(100,20,0.5,i)\n",
    "  #  vec_para.append(temp)\n",
    "#para_vec = np.asarray(vec_para)\n",
    "\n"
   ]
  },
  {
   "cell_type": "code",
   "execution_count": 6,
   "id": "abb727e2",
   "metadata": {},
   "outputs": [
    {
     "data": {
      "text/html": [
       "<div>\n",
       "<style scoped>\n",
       "    .dataframe tbody tr th:only-of-type {\n",
       "        vertical-align: middle;\n",
       "    }\n",
       "\n",
       "    .dataframe tbody tr th {\n",
       "        vertical-align: top;\n",
       "    }\n",
       "\n",
       "    .dataframe thead th {\n",
       "        text-align: right;\n",
       "    }\n",
       "</style>\n",
       "<table border=\"1\" class=\"dataframe\">\n",
       "  <thead>\n",
       "    <tr style=\"text-align: right;\">\n",
       "      <th></th>\n",
       "      <th>0</th>\n",
       "      <th>1</th>\n",
       "      <th>2</th>\n",
       "      <th>3</th>\n",
       "      <th>4</th>\n",
       "      <th>5</th>\n",
       "      <th>6</th>\n",
       "      <th>7</th>\n",
       "      <th>8</th>\n",
       "      <th>9</th>\n",
       "      <th>...</th>\n",
       "      <th>616</th>\n",
       "      <th>617</th>\n",
       "      <th>618</th>\n",
       "      <th>619</th>\n",
       "      <th>620</th>\n",
       "      <th>621</th>\n",
       "      <th>622</th>\n",
       "      <th>623</th>\n",
       "      <th>624</th>\n",
       "      <th>625</th>\n",
       "    </tr>\n",
       "  </thead>\n",
       "  <tbody>\n",
       "    <tr>\n",
       "      <th>0</th>\n",
       "      <td>0.0000</td>\n",
       "      <td>0.0000</td>\n",
       "      <td>0.0000</td>\n",
       "      <td>102.5944</td>\n",
       "      <td>102.4445</td>\n",
       "      <td>102.3538</td>\n",
       "      <td>101.8282</td>\n",
       "      <td>101.4849</td>\n",
       "      <td>101.3721</td>\n",
       "      <td>101.2563</td>\n",
       "      <td>...</td>\n",
       "      <td>143.8118</td>\n",
       "      <td>143.8118</td>\n",
       "      <td>143.8118</td>\n",
       "      <td>143.8118</td>\n",
       "      <td>143.9846</td>\n",
       "      <td>144.0068</td>\n",
       "      <td>144.0079</td>\n",
       "      <td>0.0000</td>\n",
       "      <td>0.0000</td>\n",
       "      <td>0.0000</td>\n",
       "    </tr>\n",
       "    <tr>\n",
       "      <th>1</th>\n",
       "      <td>0.0000</td>\n",
       "      <td>102.3538</td>\n",
       "      <td>102.7859</td>\n",
       "      <td>102.9417</td>\n",
       "      <td>102.8715</td>\n",
       "      <td>102.7256</td>\n",
       "      <td>102.5944</td>\n",
       "      <td>102.3894</td>\n",
       "      <td>101.8282</td>\n",
       "      <td>101.5291</td>\n",
       "      <td>...</td>\n",
       "      <td>144.0053</td>\n",
       "      <td>144.0043</td>\n",
       "      <td>143.9955</td>\n",
       "      <td>144.0068</td>\n",
       "      <td>144.0068</td>\n",
       "      <td>144.0418</td>\n",
       "      <td>144.0931</td>\n",
       "      <td>144.0079</td>\n",
       "      <td>143.9846</td>\n",
       "      <td>0.0000</td>\n",
       "    </tr>\n",
       "    <tr>\n",
       "      <th>2</th>\n",
       "      <td>0.0000</td>\n",
       "      <td>102.9084</td>\n",
       "      <td>103.2765</td>\n",
       "      <td>103.3518</td>\n",
       "      <td>103.0021</td>\n",
       "      <td>102.9444</td>\n",
       "      <td>102.8623</td>\n",
       "      <td>102.6423</td>\n",
       "      <td>102.4445</td>\n",
       "      <td>101.9948</td>\n",
       "      <td>...</td>\n",
       "      <td>144.0053</td>\n",
       "      <td>144.0043</td>\n",
       "      <td>143.9955</td>\n",
       "      <td>144.0068</td>\n",
       "      <td>144.0079</td>\n",
       "      <td>144.0634</td>\n",
       "      <td>144.1047</td>\n",
       "      <td>144.0634</td>\n",
       "      <td>144.0079</td>\n",
       "      <td>0.0000</td>\n",
       "    </tr>\n",
       "    <tr>\n",
       "      <th>3</th>\n",
       "      <td>102.9084</td>\n",
       "      <td>103.2353</td>\n",
       "      <td>103.3563</td>\n",
       "      <td>103.3879</td>\n",
       "      <td>103.2765</td>\n",
       "      <td>103.0021</td>\n",
       "      <td>102.8743</td>\n",
       "      <td>102.7256</td>\n",
       "      <td>102.5945</td>\n",
       "      <td>102.4445</td>\n",
       "      <td>...</td>\n",
       "      <td>144.0053</td>\n",
       "      <td>144.0043</td>\n",
       "      <td>143.9955</td>\n",
       "      <td>144.0068</td>\n",
       "      <td>144.0079</td>\n",
       "      <td>144.0634</td>\n",
       "      <td>144.1047</td>\n",
       "      <td>144.0634</td>\n",
       "      <td>144.0079</td>\n",
       "      <td>143.8335</td>\n",
       "    </tr>\n",
       "    <tr>\n",
       "      <th>4</th>\n",
       "      <td>102.9635</td>\n",
       "      <td>103.2353</td>\n",
       "      <td>103.3563</td>\n",
       "      <td>103.3879</td>\n",
       "      <td>103.2797</td>\n",
       "      <td>103.1713</td>\n",
       "      <td>102.9417</td>\n",
       "      <td>102.7898</td>\n",
       "      <td>102.6788</td>\n",
       "      <td>102.5703</td>\n",
       "      <td>...</td>\n",
       "      <td>143.7825</td>\n",
       "      <td>143.7183</td>\n",
       "      <td>143.6372</td>\n",
       "      <td>143.6418</td>\n",
       "      <td>143.7609</td>\n",
       "      <td>143.9846</td>\n",
       "      <td>144.0068</td>\n",
       "      <td>143.9954</td>\n",
       "      <td>143.8335</td>\n",
       "      <td>142.9343</td>\n",
       "    </tr>\n",
       "  </tbody>\n",
       "</table>\n",
       "<p>5 rows × 626 columns</p>\n",
       "</div>"
      ],
      "text/plain": [
       "        0         1         2         3         4         5         6    \\\n",
       "0    0.0000    0.0000    0.0000  102.5944  102.4445  102.3538  101.8282   \n",
       "1    0.0000  102.3538  102.7859  102.9417  102.8715  102.7256  102.5944   \n",
       "2    0.0000  102.9084  103.2765  103.3518  103.0021  102.9444  102.8623   \n",
       "3  102.9084  103.2353  103.3563  103.3879  103.2765  103.0021  102.8743   \n",
       "4  102.9635  103.2353  103.3563  103.3879  103.2797  103.1713  102.9417   \n",
       "\n",
       "        7         8         9    ...       616       617       618       619  \\\n",
       "0  101.4849  101.3721  101.2563  ...  143.8118  143.8118  143.8118  143.8118   \n",
       "1  102.3894  101.8282  101.5291  ...  144.0053  144.0043  143.9955  144.0068   \n",
       "2  102.6423  102.4445  101.9948  ...  144.0053  144.0043  143.9955  144.0068   \n",
       "3  102.7256  102.5945  102.4445  ...  144.0053  144.0043  143.9955  144.0068   \n",
       "4  102.7898  102.6788  102.5703  ...  143.7825  143.7183  143.6372  143.6418   \n",
       "\n",
       "        620       621       622       623       624       625  \n",
       "0  143.9846  144.0068  144.0079    0.0000    0.0000    0.0000  \n",
       "1  144.0068  144.0418  144.0931  144.0079  143.9846    0.0000  \n",
       "2  144.0079  144.0634  144.1047  144.0634  144.0079    0.0000  \n",
       "3  144.0079  144.0634  144.1047  144.0634  144.0079  143.8335  \n",
       "4  143.7609  143.9846  144.0068  143.9954  143.8335  142.9343  \n",
       "\n",
       "[5 rows x 626 columns]"
      ]
     },
     "execution_count": 6,
     "metadata": {},
     "output_type": "execute_result"
    }
   ],
   "source": [
    "df = pd.read_csv('/home/user/Dropbox/z_Toolbox/python/rastert_dem_uni1-clean.txt', sep =\" \", header=None)\n",
    "df_filtrado = df.fillna(0)\n",
    "df_limpio=df.drop(columns=626)#eliminar la última columna \n",
    "df_limpio.head()\n",
    "\n",
    "\n",
    "#print(\"Dimensiones del dataframe:\",df.shape)\n",
    "#print(\"Número de filas (registros):\",df.shape[0])\n",
    "#print(\"Número de columnas:\",df.shape[1])"
   ]
  },
  {
   "cell_type": "code",
   "execution_count": 9,
   "id": "3c25f83d",
   "metadata": {},
   "outputs": [
    {
     "name": "stdout",
     "output_type": "stream",
     "text": [
      "Número de columnas: 626\n"
     ]
    }
   ],
   "source": [
    "#print(\"Número de columnas:\",df_limpio.shape[1])"
   ]
  },
  {
   "cell_type": "code",
   "execution_count": 5,
   "id": "4b4e1100",
   "metadata": {},
   "outputs": [
    {
     "data": {
      "image/png": "[encoded data removed]",
      "text/plain": [
       "<Figure size 432x288 with 1 Axes>"
      ]
     },
     "metadata": {
      "needs_background": "light"
     },
     "output_type": "display_data"
    }
   ],
   "source": [
    "df_limpio.iloc[100].plot()\n",
    "df_limpio.iloc[293].plot()\n",
    "df_limpio.iloc[233].plot()\n",
    "plt.show()"
   ]
  },
  {
   "cell_type": "code",
   "execution_count": null,
   "id": "58fea1c1",
   "metadata": {},
   "outputs": [],
   "source": []
  },
  {
   "cell_type": "code",
   "execution_count": 5,
   "id": "3f53eed4",
   "metadata": {},
   "outputs": [
    {
     "data": {
      "image/png": "[encoded data removed]",
      "text/plain": [
       "<Figure size 432x288 with 1 Axes>"
      ]
     },
     "metadata": {
      "needs_background": "light"
     },
     "output_type": "display_data"
    }
   ],
   "source": [
    "#graficas de diferentes perfiles horizontales, no tomar en cuenta\n",
    "df_limpio[10].plot()\n",
    "df_limpio[20].plot()\n",
    "df_limpio[50].plot()\n",
    "\n",
    "plt.show()"
   ]
  },
  {
   "cell_type": "code",
   "execution_count": null,
   "id": "b16f72c6",
   "metadata": {},
   "outputs": [],
   "source": [
    "\n",
    "df_limpio.iloc[100].plot()\n",
    "df_limpio.iloc[123].plot()\n",
    "df_limpio.iloc[133].plot()\n",
    "plt.show()"
   ]
  },
  {
   "cell_type": "code",
   "execution_count": null,
   "id": "62b5be70",
   "metadata": {},
   "outputs": [],
   "source": [
    "\n",
    "df_limpio.iloc[210].plot()\n",
    "df_limpio.iloc[223].plot()\n",
    "df_limpio.iloc[233].plot()\n",
    "plt.show()"
   ]
  },
  {
   "cell_type": "code",
   "execution_count": null,
   "id": "ac8a23e3",
   "metadata": {},
   "outputs": [],
   "source": [
    "\n",
    "df_limpio.iloc[290].plot()\n",
    "df_limpio.iloc[300].plot()\n",
    "df_limpio.iloc[316].plot()\n",
    "plt.show()"
   ]
  },
  {
   "cell_type": "code",
   "execution_count": null,
   "id": "aee63039",
   "metadata": {},
   "outputs": [],
   "source": [
    "#df_limpio[100].plot()\n",
    "#df_limpio[293].plot()\n",
    "df_limpio[233].plot()\n",
    "plt.show()"
   ]
  },
  {
   "cell_type": "code",
   "execution_count": 6,
   "id": "8420ff90",
   "metadata": {},
   "outputs": [
    {
     "name": "stdout",
     "output_type": "stream",
     "text": [
      "626\n"
     ]
    },
    {
     "data": {
      "text/plain": [
       "numpy.ndarray"
      ]
     },
     "execution_count": 6,
     "metadata": {},
     "output_type": "execute_result"
    },
    {
     "data": {
      "image/png": "[encoded data removed]",
      "text/plain": [
       "<Figure size 432x288 with 1 Axes>"
      ]
     },
     "metadata": {
      "needs_background": "light"
     },
     "output_type": "display_data"
    }
   ],
   "source": [
    "#np_array = df_limpio.to_numpy(df_limpio.iloc[100])\n",
    "# 210 elige la fila que quiero analizar \n",
    "np_array = df_limpio.iloc[210].to_numpy()\n",
    "plt.plot(np_array)\n",
    "print(len(np_array))\n",
    "type(np_array)"
   ]
  },
  {
   "cell_type": "code",
   "execution_count": 23,
   "id": "7649d1e3",
   "metadata": {},
   "outputs": [],
   "source": [
    "#### IMPORTANTE \n",
    "inicio = 380 # indice donde quiero empezar a analizar en el eje X \n",
    "\n",
    "punto_inicio=[50,120]# punto desde donde se coloca el observador \n",
    "\n",
    "####  Puntos de la curva \n",
    "# iloc 110 elige la fila que quiero analizar \n",
    "\n",
    "np_array = df_limpio.iloc[110].to_numpy()\n",
    "\n",
    "vec_recta= [] \n",
    "\n",
    "#esto genera la recta \n",
    "for j in range(0,len(arr_x)):        \n",
    "    tm=recta(punto_inicio[0],punto_inicio[1],arr_x[inicio], np_array[inicio], arr_x[j]) \n",
    "    vec_recta.append(tm)\n",
    "    recta_vec = np.asarray(vec_recta)  \n",
    "\n",
    "#plt.ylim([70, 250]) # limita el rango en el que se muestra el eje Y\n",
    "#plt.plot(recta_vec) \n",
    "#plt.plot(np_array)\n",
    "\n"
   ]
  },
  {
   "cell_type": "code",
   "execution_count": 22,
   "id": "48e5f26e",
   "metadata": {},
   "outputs": [
    {
     "name": "stdout",
     "output_type": "stream",
     "text": [
      "380.0\n",
      "154.218\n"
     ]
    }
   ],
   "source": [
    "len(np_array)\n",
    "print(arr_x[inicio])\n",
    "print(np_array[inicio])"
   ]
  },
  {
   "cell_type": "code",
   "execution_count": 24,
   "id": "a7f8705e",
   "metadata": {},
   "outputs": [
    {
     "name": "stdout",
     "output_type": "stream",
     "text": [
      "224.37622146528807\n"
     ]
    }
   ],
   "source": [
    "#cálculo de la distancia \n",
    " \n",
    "\n",
    "\n",
    "\n",
    "lf= indice_final(np_array, recta_vec) # indice final de intersección  # PUNTO 2 P2\n",
    "\n",
    "int_i= np.asarray([inicio,np_array[inicio]])#convertir los puntos iniciales en el  array  PUNTO DE INICIO P1\n",
    "int_f= np.asarray([lf,np_array[lf]])#convertir los puntos finales en el  array \n",
    "u = distancia(int_i, int_f) #cacula la distancia \n",
    "print(u)\n"
   ]
  },
  {
   "cell_type": "code",
   "execution_count": null,
   "id": "9ea5ec24",
   "metadata": {},
   "outputs": [],
   "source": [
    "\n",
    "\n",
    "\n",
    "\n",
    "\n",
    "\n"
   ]
  }
 ],
 "metadata": {
  "kernelspec": {
   "display_name": "Python 3",
   "language": "python",
   "name": "python3"
  },
  "language_info": {
   "codemirror_mode": {
    "name": "ipython",
    "version": 3
   },
   "file_extension": ".py",
   "mimetype": "text/x-python",
   "name": "python",
   "nbconvert_exporter": "python",
   "pygments_lexer": "ipython3",
   "version": "3.8.8"
  }
 },
 "nbformat": 4,
 "nbformat_minor": 5
}
